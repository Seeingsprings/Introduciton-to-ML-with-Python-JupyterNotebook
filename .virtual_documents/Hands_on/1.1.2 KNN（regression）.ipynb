import numpy as np 
import matplotlib.pyplot as plt 
import pandas as pd 
import mglearn








 mglearn.plots.plot_knn_classification(n_neighbors=1)





mglearn.plots.plot_knn_classification(n_neighbors=3)





from sklearn.model_selection import train_test_split 
X, y = mglearn.datasets.make_forge() 
X_train, X_test, y_train, y_test = train_test_split(X, y, random_state=0)





from sklearn.neighbors import KNeighborsClassifier 
clf = KNeighborsClassifier(n_neighbors=3)





clf.fit(X_train, y_train)





print("Test set predictions: {}".format(clf.predict(X_test)))





print("Test set accuracy: {:.2f}".format(clf.score(X_test, y_test)))











fig, axes = plt.subplots(1, 3, figsize=(10, 3)) 
for n_neighbors, ax in zip([1, 3, 9], axes): 
    # fit方法返回对象本身，所以我们可以将实例化和拟合放在一行代码中 
    clf = KNeighborsClassifier(n_neighbors=n_neighbors).fit(X, y) 
    mglearn.plots.plot_2d_separator(clf, X, fill=True, eps=0.5, ax=ax, alpha=.4) 
    mglearn.discrete_scatter(X[:, 0], X[:, 1], y, ax=ax) 
    ax.set_title("{} neighbor(s)".format(n_neighbors)) 
    ax.set_xlabel("feature 0") 
    ax.set_ylabel("feature 1") 
axes[0].legend(loc=3)








mglearn.plots.plot_knn_regression(n_neighbors = 1)





mglearn.plots.plot_knn_regression(n_neighbors = 3)





from sklearn.neighbors import KNeighborsRegressor

X,y = mglearn.datasets.make_wave(n_samples = 40)

# 划分数据集
X_train, X_test, y_train, y_test = train_test_split(X, y, random_state = 0)

# 实例化
reg = KNeighborsRegressor(n_neighbors = 3)

# 拟合
reg.fit(X_train, y_train)





print("Test set predictions:\n{}".format(reg.predict(X_test)))


formatted_predictions = ["{:.2f}".format(x) for x in reg.predict(X_test)]
print("Test set predictions:\n{}".format(formatted_predictions))





print("Test set R^2: {:.2f}".format(reg.score(X_test, y_test)))





fig, axes = plt.subplots(1, 3, figsize=(15, 4)) 
# 创建1000个数据点，在-3和3之间均匀分布 
line = np.linspace(-3, 3, 1000).reshape(-1, 1) 
for n_neighbors, ax in zip([1, 3, 9], axes): 
    # 利用1个、3个或9个邻居分别进行预测 
    reg = KNeighborsRegressor(n_neighbors=n_neighbors) 
    reg.fit(X_train, y_train) 
    ax.plot(line, reg.predict(line)) 
    ax.plot(X_train, y_train, '^', c=mglearn.cm2(0), markersize=8) 
    ax.plot(X_test, y_test, 'v', c=mglearn.cm2(1), markersize=8) 
    ax.set_title( 
        "{} neighbor(s)\n train score: {:.2f} test score: {:.2f}".format( 
            n_neighbors, reg.score(X_train, y_train), 
            reg.score(X_test, y_test))) 
    ax.set_xlabel("Feature") 
    ax.set_ylabel("Target") 
axes[0].legend(["Model predictions", "Training data/target", 
                "Test data/target"], loc="best")



