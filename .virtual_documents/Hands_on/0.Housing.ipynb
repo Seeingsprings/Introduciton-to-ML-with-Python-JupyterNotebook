


import os 
import tarfile 
import urllib 
DOWNLOAD_ROOT = "https://raw.githubusercontent.com/ageron/handson-ml2/master/" 
HOUSING_PATH = os.path.join("datasets", "housing") 
HOUSING_URL = DOWNLOAD_ROOT + "datasets/housing/housing.tgz" 
def fetch_housing_data(housing_url=HOUSING_URL, housing_path=HOUSING_PATH): 
    os.makedirs(housing_path, exist_ok=True) 
    tgz_path = os.path.join(housing_path, "housing.tgz") 
    urllib.request.urlretrieve(housing_url, tgz_path) 
    housing_tgz = tarfile.open(tgz_path) 
    housing_tgz.extractall(path=housing_path,filter='data') 
    housing_tgz.close() 


fetch_housing_data()


import pandas as pd 
def load_housing_data(housing_path=HOUSING_PATH): 
    csv_path = os.path.join(housing_path, "housing.csv") 
    return pd.read_csv(csv_path) 





housing = load_housing_data()
housing.head()


# 通过info（）方法可以快速获取数据集的简单描述，特别是总行数、每个属性的类型和非空值的数量
housing.info()





>>> housing["ocean_proximity"].value_counts()


# 通过describe（）方法可以显示数值属性的摘要
housing.describe()


%matplotlib inline   
# only in a Jupyter notebook 
import matplotlib.pyplot as plt 
housing.hist(bins=50, figsize=(20,15)) 
plt.show()





import numpy as np 
def split_train_test(data, test_ratio):

    shuffled_indices = np.random.permutation(len(data)) 
    test_set_size = int(len(data) * test_ratio) 
    test_indices = shuffled_indices[:test_set_size] 
    train_indices = shuffled_indices[test_set_size:] 
    return data.iloc[train_indices], data.iloc[test_indices]


>>> train_set, test_set = split_train_test(housing, 0.2) 


>>> len(train_set) 


>>> len(test_set)





from zlib import crc32 
def test_set_check(identifier, test_ratio): 
    return crc32(np.int64(identifier)) & 0xffffffff < test_ratio * 2**32 
def split_train_test_by_id(data, test_ratio, id_column): 
    ids = data[id_column] 
    in_test_set = ids.apply(lambda id_: test_set_check(id_, test_ratio)) 
    return data.loc[~in_test_set], data.loc[in_test_set]


# 不幸的是，housing数据集没有标识符列。最简单的解决方法是使用行索引作为ID：
housing_with_id = housing.reset_index()   # adds an `index` column 
train_set, test_set = split_train_test_by_id(housing_with_id, 0.2, "index")





housing_with_id["id"] = housing["longitude"] * 1000 + housing["latitude"] 
train_set, test_set = split_train_test_by_id(housing_with_id, 0.2, "id") 


from sklearn.model_selection import train_test_split 
train_set, test_set = train_test_split(housing, test_size=0.2, random_state=42)





housing["income_cat"] = pd.cut(housing["median_income"], 
                               bins=[0., 1.5, 3.0, 4.5, 6., np.inf], 
                               labels=[1, 2, 3, 4, 5]) 
housing["income_cat"].hist()


# 现在，你可以根据收入类别进行分层抽样了。
from sklearn.model_selection import StratifiedShuffleSplit 
split = StratifiedShuffleSplit(n_splits=1, test_size=0.2, random_state=42) 
for train_index, test_index in split.split(housing, housing["income_cat"]): 
    strat_train_set = housing.loc[train_index] 
    strat_test_set = housing.loc[test_index] 


# 首先，可以看看测试集中收入类别比例分布：
>>> strat_test_set["income_cat"].value_counts() / len(strat_test_set)


# 使用类似代码你还可以测量测试集中的收入类别比例分布
>>> strat_train_set["income_cat"].value_counts() / len(strat_train_set)





# 现在你可以删除income_cat属性，将数据恢复原样了
for set_ in (strat_train_set, strat_test_set): 
    set_.drop("income_cat", axis=1, inplace=True)





housing = strat_train_set.copy()





housing.plot(kind="scatter", x="longitude", y="latitude") 


# 将alpha选项设置为0.1，可以更清楚地看出高密度数据点的位置
housing.plot(kind= "scatter", x = "longitude", y = "latitude", alpha = 0.1)





housing.plot(kind="scatter", x="longitude", y="latitude", alpha=0.4, 
    s=housing["population"]/100, label="population", figsize=(10,7), 
    c="median_house_value", cmap=plt.get_cmap("jet"), colorbar=True, 
) 
plt.legend()





numeric_housing = housing.drop('ocean_proximity', axis=1)
corr_matrix = numeric_housing.corr()


# 现在看看每个属性与房价中位数的相关性分别是多少：
>>> corr_matrix ["median_house_value"].sort_values(ascending = False)





from pandas.plotting import scatter_matrix
attributes = ["median_house_value","median_income","total_rooms","housing_median_age"]
scatter_matrix(housing[attributes], figsize=(12,8))





housing.plot(kind = "scatter", x ="median_income", y= "median_house_value",alpha=0.1)





housing["rooms_per_household"] = housing["total_rooms"]/housing["households"] 
housing["bedrooms_per_room"] = housing["total_bedrooms"]/housing["total_rooms"] 
housing["population_per_household"]=housing["population"]/housing["households"] 


# 相关矩阵
numeric_housing = housing.drop('ocean_proximity', axis=1)
corr_matrix = numeric_housing.corr()


>>> corr_matrix["median_house_value"].sort_values(ascending=False)





housing = strat_train_set.drop("median_house_value", axis=1) 
housing_labels = strat_train_set["median_house_value"].copy() 











>>> housing_cat = housing[["ocean_proximity"]]
>>> housing_cat.head(10)





>>> from sklearn.preprocessing import OrdinalEncoder
>>> ordinal_encoder = OrdinalEncoder() 
>>> housing_cat_encoded = ordinal_encoder.fit_transform(housing_cat) 
>>> housing_cat_encoded[:10] 


# 获取类别列表
print(ordinal_encoder.categories_ )


>>> from sklearn.preprocessing import OneHotEncoder 
>>> cat_encoder = OneHotEncoder() 
>>> housing_cat_1hot = cat_encoder.fit_transform(housing_cat) 
>>> housing_cat_1hot 


#如果你实在想把它转换成一个（密集的）NumPy数组，只需要调用toarray（）方法即可：
>>> housing_cat_1hot.toarray()


print(cat_encoder.categories_)
