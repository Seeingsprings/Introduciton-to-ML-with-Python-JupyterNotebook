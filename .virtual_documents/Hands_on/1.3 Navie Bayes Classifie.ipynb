








import numpy as np
import pandas as pd
import matplotlib.pyplot as plt
import seaborn as sns
from sklearn.datasets import load_breast_cancer
from sklearn.model_selection import train_test_split
from sklearn.linear_model import LogisticRegression
from sklearn.metrics import accuracy_score, classification_report, confusion_matrix


X = np.array([[0, 1, 0, 1], 
              [1, 0, 1, 1], 
              [0, 0, 0, 1], 
              [1, 0, 1, 0]]) 
y = np.array([0, 1, 0, 1])






counts = {} 
for label in np.unique(y): 
    # 对每个类别进行遍历 
    # 计算（求和）每个特征中1的个数 
    counts[label] = X[y == label].sum(axis=0) 
print("Feature counts:\n{}".format(counts))








import pandas as pd
from sklearn.model_selection import train_test_split
from sklearn.feature_extraction.text import CountVectorizer
from sklearn.naive_bayes import MultinomialNB
from sklearn.metrics import accuracy_score, classification_report


# Create a simple dataset
data = {
    'email': [
        'Free money now!',                     # spam
        'Win cash fast!',                      # spam
        'Call you later, meeting at 5?',       # ham
        'Congrats! You won $1000!',            # spam
        'Can we schedule a call?',             # ham
        'URGENT: Claim your prize!',           # spam
        'Thanks for the document.',            # ham
        'Make money fast with no effort.'      # spam
    ],
    'label': ['spam', 'spam', 'ham', 'spam', 'ham', 'spam', 'ham', 'spam']
}

df = pd.DataFrame(data)
print(df)





# Initialize the vectorizer
vectorizer = CountVectorizer()

# Fit and transform the emails into feature vectors
X = vectorizer.fit_transform(df['email'])

# Labels (target)
y = df['label']





X_train, X_test, y_train, y_test = train_test_split(
    X, y, test_size=0.2, random_state=42, stratify=y
)








# Create and train the classifier
model = MultinomialNB()
model.fit(X_train, y_train)





# Predict on test set
y_pred = model.predict(X_test)

# Show results
print("Predicted labels:", y_pred)
print("Actual labels:   ", y_test.values)





acc = accuracy_score(y_test, y_pred)
print(f"\nAccuracy: {acc:.2f}")

print("\nClassification Report:")
print(classification_report(y_test, y_pred))





new_email = ["Congratulations! You've won a free iPhone!"]

# Must use the same vectorizer (trained on original vocabulary)
new_email_vec = vectorizer.transform(new_email)

# Predict
prediction = model.predict(new_email_vec)
probability = model.predict_proba(new_email_vec)

print("Prediction:", prediction[0])
print("Probability [ham, spam]:", probability[0])





import pandas as pd
import numpy as np
from sklearn.model_selection import train_test_split
from sklearn.feature_extraction.text import CountVectorizer, TfidfVectorizer
from sklearn.naive_bayes import MultinomialNB
from sklearn.metrics import accuracy_score, precision_score, recall_score, classification_report, confusion_matrix
import re
import nltk
from nltk.corpus import stopwords



