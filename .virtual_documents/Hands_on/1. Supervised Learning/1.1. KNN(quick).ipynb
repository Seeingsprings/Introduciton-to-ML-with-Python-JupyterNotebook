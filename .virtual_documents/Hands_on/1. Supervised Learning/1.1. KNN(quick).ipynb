





from sklearn.datasets import fetch_openml
import numpy as np
import matplotlib.pyplot as plt
from sklearn.model_selection import train_test_split
from sklearn.neighbors import KNeighborsClassifier
from sklearn.metrics import accuracy_score, classification_report, confusion_matrix





# 获取数据集
>>> from sklearn.datasets import fetch_openml
>>> mnist = fetch_openml ('mnist_784', version = 1)
>>> mnist.keys()





# 提取特征 X 和标签 y
>>> X, y = mnist["data"], mnist["target"]
>>> X.shape


>>> y.shape





# 将 y 转为整数类型
y = y.astype(int)

# 检查前几个标签
print("前5个标签:", y[:5])  # [5 0 4 1 9]


print(type(X))   


import matplotlib as mpl
import matplotlib.pyplot as plt

some_digit = X.iloc[0] 
some_digit_image = some_digit.values.reshape(28, 28) 
# 这里本来应该写：
# some_digit = X[0]  # ✅ 正确：取第一个样本
# some_digit_image = some_digit.reshape(28, 28)
# 但是从type可知 X 被转成了DataFrame，所以要用。iloc来取位置
plt.imshow(some_digit_image, cmap = "binary")
plt.axis("off")
plt.show()





# 划分训练集和测试集（60k 训练，10k 测试）
X_train, X_test, y_train, y_test = train_test_split(
    X, y, test_size=10000, random_state=42, stratify=y
)

print("训练集大小:", X_train.shape[0])  # 60000
print("测试集大小:", X_test.shape[0])   # 10000





print("X_train shape:", X_train.shape)  # 应该是 (60000, 784)
print("X_test shape:", X_test.shape)    # 应该是 (10000, 784)
print("y_train shape:", y_train.shape)  # 应该是 (60000,)
print("y_test shape:", y_test.shape)    # 应该是 (10000,)





# 创建 KNN 分类器，K=3
knn_clf = KNeighborsClassifier(n_neighbors=3)

# 训练模型（其实只是把数据存起来）
knn_clf.fit(X_train, y_train)





# 预测测试集标签
y_pred = knn_clf.predict(X_test)





acc = accuracy_score(y_test, y_pred)
print(f"准确率: {acc:.4f}")  # 大约 0.9688 → 96.88%


# 查看详细报告
print(classification_report(y_test, y_pred))








import seaborn as sns

cm = confusion_matrix(y_test, y_pred)
plt.figure(figsize=(10, 8))
sns.heatmap(cm, annot=True, fmt="d", cmap="Blues")
plt.title("Confusion Matrix")
plt.xlabel("predict label")
plt.ylabel("real label")
plt.show()








# 尝试不同的 K 值，找出最优
k_range = range(1,11)
scores = []

for k in k_range:
    knn = KNeighborsClassifier(n_neighbors = k)
    knn.fit(X_train, y_train)
    y_pred = knn.predict(X_test)
    scores.append(accuracy_score(y_test, y_pred))

# 画图
plt.plot(k_range, scores, marker='o')
plt.title(" Accuracy at different K values")
plt.xlabel("K")
plt.ylabel("accuracy")
plt.grid(True)
plt.show()

# 最佳 K
best_k = k_range[np.argmax(scores)]
print(f"Best K values: {best_k}")











 mglearn.plots.plot_knn_classification(n_neighbors=1)





mglearn.plots.plot_knn_classification(n_neighbors=3)





from sklearn.model_selection import train_test_split 
X, y = mglearn.datasets.make_forge() 
X_train, X_test, y_train, y_test = train_test_split(X, y, random_state=0)





from sklearn.neighbors import KNeighborsClassifier 
clf = KNeighborsClassifier(n_neighbors=3)





clf.fit(X_train, y_train)





print("Test set predictions: {}".format(clf.predict(X_test)))





print("Test set accuracy: {:.2f}".format(clf.score(X_test, y_test)))











fig, axes = plt.subplots(1, 3, figsize=(10, 3)) 
for n_neighbors, ax in zip([1, 3, 9], axes): 
    # fit方法返回对象本身，所以我们可以将实例化和拟合放在一行代码中 
    clf = KNeighborsClassifier(n_neighbors=n_neighbors).fit(X, y) 
    mglearn.plots.plot_2d_separator(clf, X, fill=True, eps=0.5, ax=ax, alpha=.4) 
    mglearn.discrete_scatter(X[:, 0], X[:, 1], y, ax=ax) 
    ax.set_title("{} neighbor(s)".format(n_neighbors)) 
    ax.set_xlabel("feature 0") 
    ax.set_ylabel("feature 1") 
axes[0].legend(loc=3)








mglearn.plots.plot_knn_regression(n_neighbors = 1)





mglearn.plots.plot_knn_regression(n_neighbors = 3)





from sklearn.neighbors import KNeighborsRegressor

X,y = mglearn.datasets.make_wave(n_samples = 40)

# 划分数据集
X_train, X_test, y_train, y_test = train_test_split(X, y, random_state = 0)

# 实例化
reg = KNeighborsRegressor(n_neighbors = 3)

# 拟合
reg.fit(X_train, y_train)





print("Test set predictions:\n{}".format(reg.predict(X_test)))


formatted_predictions = ["{:.2f}".format(x) for x in reg.predict(X_test)]
print("Test set predictions:\n{}".format(formatted_predictions))





print("Test set R^2: {:.2f}".format(reg.score(X_test, y_test)))





fig, axes = plt.subplots(1, 3, figsize=(15, 4)) 
# 创建1000个数据点，在-3和3之间均匀分布 
line = np.linspace(-3, 3, 1000).reshape(-1, 1) 
for n_neighbors, ax in zip([1, 3, 9], axes): 
    # 利用1个、3个或9个邻居分别进行预测 
    reg = KNeighborsRegressor(n_neighbors=n_neighbors) 
    reg.fit(X_train, y_train) 
    ax.plot(line, reg.predict(line)) 
    ax.plot(X_train, y_train, '^', c=mglearn.cm2(0), markersize=8) 
    ax.plot(X_test, y_test, 'v', c=mglearn.cm2(1), markersize=8) 
    ax.set_title( 
        "{} neighbor(s)\n train score: {:.2f} test score: {:.2f}".format( 
            n_neighbors, reg.score(X_train, y_train), 
            reg.score(X_test, y_test))) 
    ax.set_xlabel("Feature") 
    ax.set_ylabel("Target") 
axes[0].legend(["Model predictions", "Training data/target", 
                "Test data/target"], loc="best")



