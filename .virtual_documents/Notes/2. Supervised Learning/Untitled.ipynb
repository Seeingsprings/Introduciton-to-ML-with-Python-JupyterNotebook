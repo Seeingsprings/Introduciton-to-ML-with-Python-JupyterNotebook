import pandas as pd
import numpy as np

# load the data
train_df = pd.read_csv('./titanic/train.csv')
test_df = pd.read_csv('./titanic/test.csv')

# 查看前5行
print(train_df.head())


print(train_df.info())





# select features
features = ["Pclass", "Sex", "Age", "SibSp", "Parch", "Fare"]

# 处理训练集
X_train = train_df[features].copy()
y_train = train_df["Survived"]

# 处理测试集
X_test = test_df[features].copy()

# 补充缺失值：Age 用中位数，Fare 用中位数（测试集可能也有缺失！）
X_train["Age"].fillna(X_train["Age"].median(), inplace=True)
X_test["Age"].fillna(X_test["Age"].median(), inplace=True)
X_test["Fare"].fillna(X_test["Fare"].median(), inplace=True)  # test.csv 有一行 Fare 缺失！

# 将 "Sex" 转为数字：male=0, female=1
X_train["Sex"] = X_train["Sex"].map({"male": 0, "female": 1})
X_test["Sex"] = X_test["Sex"].map({"male": 0, "female": 1})

print("✅ Preprocessing done!")
print("X_train shape:", X_train.shape)
print("X_test shape:", X_test.shape)


from sklearn.ensemble import RandomFrestClassifier


