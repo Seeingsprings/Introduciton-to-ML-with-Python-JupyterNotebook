











import numpy as np 
import matplotlib.pyplot as plt 
import pandas as pd 
import mglearn





from sklearn.datasets import load_iris 
iris_dataset = load_iris()

print("Keys of iris_dataset: \n{}".format(iris_dataset.keys()))





print(iris['DESCR'][:193] + "\n...")





print("Target names: {}".format(iris_dataset['target_names']))





 print("Feature names: \n{}".format(iris_dataset['feature_names']))





print("Type of data: {}".format(type(iris_dataset['data'])))





print("Shape of data: {}".format(iris_dataset['data'].shape))





print("{}".format(iris_dataset['data'][:5]))








print("Type of target :{}".format(type(iris_dataset['target'])))


print("Shape of target: {}".format(iris_dataset['target'].shape))



print("Target:\n{}".format(iris_dataset['target']))
# 品种被转换成从0到2的整数：














from sklearn.model_selection import train_test_split 

# X是特征，y是标签
X = iris['data']
y = iris['target']

# 划分：80% 训练，20% 测试
X_train, X_test, y_train, y_test = train_test_split(
    X, y,
    test_size=0.2,      # 20% 作为测试集
    random_state=42     # 固定随机种子，保证每次结果一样
)

print("训练集大小:", X_train.shape)  # 应该是 (120, 4)
print("测试集大小:", X_test.shape)   # 应该是 (30, 4)











print("X_train shape: {}".format(X_train.shape)) 
print("y_train shape: {}\n".format(y_train.shape))
print("X_test shape: {}".format(X_test.shape)) 
print("y_test shape: {}".format(y_test.shape))





#利用X_train中的数据创建DataFrame 
from pandas.plotting import scatter_matrix

# 利用iris_dataset.feature_names中的字符串对数据列进行标记 
iris_dataframe = pd.DataFrame(X_train, columns=iris_dataset.feature_names) 
# 利用DataFrame创建散点图矩阵，按y_train着色 
grr = scatter_matrix(iris_dataframe, 
                     c=y_train, 
                     figsize=(15, 15), 
                     marker='o', 
                     hist_kwds={'bins': 20}, 
                     s=60, 
                     alpha=0.8, 
                     cmap=mglearn.cm3)





from sklearn.neighbors import KNeighborsClassifier 
knn = KNeighborsClassifier(n_neighbors=1)





knn.fit(X_train, y_train)
KNeighborsClassifier(algorithm='auto', leaf_size=30, metric='minkowski', metric_params=None, n_jobs=1, n_neighbors=1, p=2, 
weights='uniform')





X_new = np.array([[5, 2.9, 1, 0.2]]) 
print("X_new.shape: {}".format(X_new.shape))





# 对测试集做预测
y_pred = knn.predict(X_test)

# 打印预测结果（前10个）
print("预测结果:", y_pred[:10])
print("真实标签:", y_test[:10])





print("Test set predictions:\n {}".format(y_pred))


from sklearn.metrics import accuracy_score

# 计算准确率：预测正确的比例
acc = accuracy_score(y_test, y_pred)
print(f"模型准确率: {acc:.2%}")





new_sample = [[5.1, 3.5, 1.4, 0.2]]

prediction = knn.predict(new_sample)
predicted_class = iris['target_names'][prediction[0]]

print("预测类别：", predicted_class)



