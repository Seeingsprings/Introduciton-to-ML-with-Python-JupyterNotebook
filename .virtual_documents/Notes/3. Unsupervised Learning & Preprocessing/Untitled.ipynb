





# 先导入必备三剑客 🛠️
import numpy as np
import pandas as pd
import matplotlib.pyplot as plt

# 还需要这个神器：scikit-learn！
from sklearn.cluster import KMeans
from sklearn.datasets import make_blobs  # 用来生成测试数据





# Generate synthetic data with 3 clusters
X, _ = make_blobs(n_samples=300, centers=3, cluster_std=0.8, random_state=42)

# Visualize the data (no labels yet!)
plt.figure(figsize=(8, 6))
plt.scatter(X[:, 0], X[:, 1], s=50, alpha=0.8)
plt.title("Raw Data - No Labels 😕")
plt.xlabel("Feature 1")
plt.ylabel("Feature 2")
plt.grid(True, alpha=0.3)
plt.show()





# Create KMeans model
kmeans = KMeans(n_clusters=3, random_state=42, n_init='auto')

# Train the model (fit)
kmeans.fit(X)

# Get cluster labels for each point
labels = kmeans.labels_

# Get cluster centers
centers = kmeans.cluster_centers_





plt.figure(figsize=(8, 6))
colors = ['red', 'blue', 'green']
for i in range(3):
    plt.scatter(X[labels == i, 0], X[labels == i, 1], 
                c=colors[i], label=f'Cluster {i+1}', s=50, alpha=0.8)

# Plot centers
plt.scatter(centers[:, 0], centers[:, 1], c='black', marker='x', s=200, linewidths=3, label='Centroids')

plt.title("K-Means Clustering Result ")
plt.xlabel("Feature 1")
plt.ylabel("Feature 2")
plt.legend()
plt.grid(True, alpha=0.3)
plt.show()






