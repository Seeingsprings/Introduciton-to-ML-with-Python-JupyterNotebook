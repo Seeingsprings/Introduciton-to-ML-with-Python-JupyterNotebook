{
 "cells": [
  {
   "cell_type": "markdown",
   "id": "b79ebb0f-7517-4e8b-bba7-9e5d3d614734",
   "metadata": {},
   "source": [
    "# Naive Bayes Classifier\n",
    "朴素贝叶斯分类器是与上一节介绍的线性模型非常相似的一种分类器，但它的训练速度往\n",
    "往更快。这种高效率所付出的代价是，朴素贝叶斯模型的泛化能力要比线性分类器（如\n",
    "LogisticRegression和LinearSVC）稍差。\n",
    "\n",
    "朴素贝叶斯模型如此高效的原因在于，它通过单独查看每个特征来学习参数，并从每\n",
    "个特征中收集简单的类别统计数据。\n",
    "\n",
    "scikit-learn中实现了三种朴素贝叶斯分类器：GaussianNB、BernoulliNB和MultinomialNB。\n",
    "\n",
    "GaussianNB可应用于任意连续数据，而\n",
    "BernoulliNB假定输入数据为二分类数据，\n",
    "MultinomialNB假定输入数据为计数数据（即每个特征代表某个对象的整数计数，比如一个单词在句子里出现的次数）。\n",
    "\n",
    "BernoulliNB和\n",
    "MultinomialNB主要用于文本数据分类。\n",
    "\n",
    "BernoulliNB分类器计算每个类别中每个特征不为0的元素个数。用一个例子来说明会很\n",
    "容易理解：\n",
    "## BernoulliNB分类器"
   ]
  },
  {
   "cell_type": "code",
   "execution_count": 2,
   "id": "e8c265cb-5d96-4c74-b856-b45336e94ad7",
   "metadata": {},
   "outputs": [],
   "source": [
    "import numpy as np\n",
    "import pandas as pd\n",
    "import matplotlib.pyplot as plt\n",
    "import seaborn as sns\n",
    "from sklearn.datasets import load_breast_cancer\n",
    "from sklearn.model_selection import train_test_split\n",
    "from sklearn.linear_model import LogisticRegression\n",
    "from sklearn.metrics import accuracy_score, classification_report, confusion_matrix"
   ]
  },
  {
   "cell_type": "code",
   "execution_count": 3,
   "id": "b255be2f-95f6-492a-af63-97b294c9005c",
   "metadata": {},
   "outputs": [],
   "source": [
    "X = np.array([[0, 1, 0, 1], \n",
    "              [1, 0, 1, 1], \n",
    "              [0, 0, 0, 1], \n",
    "              [1, 0, 1, 0]]) \n",
    "y = np.array([0, 1, 0, 1])\n"
   ]
  },
  {
   "cell_type": "markdown",
   "id": "713a2669-9246-4b9a-b500-d477b5e75c5c",
   "metadata": {},
   "source": [
    "这里我们有4个数据点，每个点有4个二分类特征。一共有两个类别：0和1。对于类别0\n",
    "（第1、3个数据点），第一个特征有2个为零、0个不为零，第二个特征有1个为零、1个\n",
    "不为零，以此类推。然后对类别1中的数据点计算相同的计数。计算每个类别中的非零元\n",
    "素个数，大体上看起来像这样"
   ]
  },
  {
   "cell_type": "code",
   "execution_count": 4,
   "id": "04f05f0d-b114-4778-a23f-5b4a76b02980",
   "metadata": {},
   "outputs": [
    {
     "name": "stdout",
     "output_type": "stream",
     "text": [
      "Feature counts:\n",
      "{np.int64(0): array([0, 1, 0, 2]), np.int64(1): array([2, 0, 2, 1])}\n"
     ]
    }
   ],
   "source": [
    "counts = {} \n",
    "for label in np.unique(y): \n",
    "    # 对每个类别进行遍历 \n",
    "    # 计算（求和）每个特征中1的个数 \n",
    "    counts[label] = X[y == label].sum(axis=0) \n",
    "print(\"Feature counts:\\n{}\".format(counts))"
   ]
  },
  {
   "cell_type": "markdown",
   "id": "b75249be-4235-4294-af9a-1ec7e732a68e",
   "metadata": {},
   "source": [
    "解释一下：\n",
    "\n",
    "类别1（也就是第一行和第三行），是特征0\n",
    "\n",
    "返回的[0,1,0,2] 就是两行相加的结果，同时也是“类别0中每个特征的1的个数”\n",
    "\n",
    "所以特征0中有 0 个1，特征1中有 1 个1，特征2中有 0 个1，特征3中有 2 个1\n",
    "\n",
    "就是这个意思，很聪明吧\n"
   ]
  },
  {
   "cell_type": "markdown",
   "id": "5cfe56be-719f-4ed7-96de-da93f55e7c9a",
   "metadata": {},
   "source": [
    "# Decision Tree\n",
    "决策树是广泛用于分类和回归任务的模型。本质上，它从一层层的if/else问题中进行学\n",
    "习，并得出结论\n",
    "\n",
    "这些问题类似于你在“20 Questions”游戏9中可能会问的问题。\n",
    "如图所示"
   ]
  },
  {
   "cell_type": "code",
   "execution_count": 5,
   "id": "cfe0d227-eacf-40b4-b469-795bf7d303bb",
   "metadata": {},
   "outputs": [
    {
     "ename": "NameError",
     "evalue": "name 'mglearn' is not defined",
     "output_type": "error",
     "traceback": [
      "\u001b[31m---------------------------------------------------------------------------\u001b[39m",
      "\u001b[31mNameError\u001b[39m                                 Traceback (most recent call last)",
      "\u001b[36mCell\u001b[39m\u001b[36m \u001b[39m\u001b[32mIn[5]\u001b[39m\u001b[32m, line 1\u001b[39m\n\u001b[32m----> \u001b[39m\u001b[32m1\u001b[39m \u001b[43mmglearn\u001b[49m.plots.plot_animal_tree()\n",
      "\u001b[31mNameError\u001b[39m: name 'mglearn' is not defined"
     ]
    }
   ],
   "source": [
    "mglearn.plots.plot_animal_tree()"
   ]
  }
 ],
 "metadata": {
  "kernelspec": {
   "display_name": "Python 3 (ipykernel)",
   "language": "python",
   "name": "python3"
  },
  "language_info": {
   "codemirror_mode": {
    "name": "ipython",
    "version": 3
   },
   "file_extension": ".py",
   "mimetype": "text/x-python",
   "name": "python",
   "nbconvert_exporter": "python",
   "pygments_lexer": "ipython3",
   "version": "3.13.5"
  }
 },
 "nbformat": 4,
 "nbformat_minor": 5
}
