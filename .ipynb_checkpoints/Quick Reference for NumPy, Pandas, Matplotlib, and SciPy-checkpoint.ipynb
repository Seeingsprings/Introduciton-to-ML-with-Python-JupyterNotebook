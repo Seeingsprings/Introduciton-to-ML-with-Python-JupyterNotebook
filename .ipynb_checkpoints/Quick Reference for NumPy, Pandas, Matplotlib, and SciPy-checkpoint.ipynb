{
 "cells": [
  {
   "cell_type": "markdown",
   "id": "5ebb65ce-b5b7-4b63-95f4-48ad9848ac7b",
   "metadata": {},
   "source": [
    "# Numpy"
   ]
  },
  {
   "cell_type": "code",
   "execution_count": 59,
   "id": "eb6c1d09-372c-4335-8002-b733d1de3a72",
   "metadata": {},
   "outputs": [
    {
     "name": "stdout",
     "output_type": "stream",
     "text": [
      "一维数组: [1 2 3 4 5]\n",
      "二维数组:\n",
      " [[1 2]\n",
      " [3 4]\n",
      " [5 6]]\n"
     ]
    }
   ],
   "source": [
    "import numpy as np\n",
    "# 创建数组\n",
    "arr1 = np.array([1, 2, 3, 4, 5])\n",
    "arr2 = np.array([[1, 2],  [3, 4],  [5, 6]])\n",
    "\n",
    "print(\"一维数组:\", arr1)\n",
    "print(\"二维数组:\\n\", arr2)"
   ]
  },
  {
   "cell_type": "code",
   "execution_count": 61,
   "id": "f3fbab07-5dd3-4b31-a109-b68582447605",
   "metadata": {},
   "outputs": [
    {
     "name": "stdout",
     "output_type": "stream",
     "text": [
      "零数组: [0. 0. 0.]\n",
      "全一数组:\n",
      " [[1. 1.]\n",
      " [1. 1.]]\n",
      "范围数组: [0 2 4 6 8]\n",
      "等分数组: [0.   0.25 0.5  0.75 1.  ]\n"
     ]
    }
   ],
   "source": [
    "# 常用创建方式\n",
    "zeros = np.zeros(3)           # [0, 0, 0]\n",
    "ones = np.ones((2, 2))        # 2x2 的 值全为 1 矩阵\n",
    "range_arr = np.arange(0, 10, 2)   # np.arange(起始, 结束, 步长)\n",
    "linspace = np.linspace(0, 1, 5)   # 在 0 到 1 之间，平均分成 5 个点\n",
    "\n",
    "print(\"零数组:\", zeros)\n",
    "print(\"全一数组:\\n\", ones)\n",
    "print(\"范围数组:\", range_arr)\n",
    "print(\"等分数组:\", linspace)"
   ]
  },
  {
   "cell_type": "code",
   "execution_count": 64,
   "id": "00136455-5d83-486f-a198-d0d01317e7cb",
   "metadata": {},
   "outputs": [
    {
     "name": "stdout",
     "output_type": "stream",
     "text": [
      "[0.871 0.804 0.187]\n",
      "[-0.427  0.097  0.969]\n",
      "[9 6 8 6 0]\n"
     ]
    }
   ],
   "source": [
    "print(np.random.rand(3))     # [0.1, 0.9, 0.3]  0~1 均匀分布\n",
    "\n",
    "print(np.random.randn(3))    # 正态分布（均值0，标准差1）\n",
    "\n",
    "print(np.random.randint(0, 10, 5))  # 0~9 的5个随机整数"
   ]
  },
  {
   "cell_type": "code",
   "execution_count": 28,
   "id": "48ce6966-1973-40ae-a1a4-fe7683452c10",
   "metadata": {},
   "outputs": [
    {
     "name": "stdout",
     "output_type": "stream",
     "text": [
      "arr1 + 2 = [3 4 5 6 7]\n",
      "arr1 * 2 = [ 2  4  6  8 10]\n",
      "sqrt(arr1) = [1.    1.414 1.732 2.    2.236]\n",
      "sqrt(arr1) = [1.000, 1.414, 1.732, 2.000, 2.236]\n"
     ]
    }
   ],
   "source": [
    "# 数组运算（逐元素）\n",
    "print(\"arr1 + 2 =\", arr1 + 2)\n",
    "print(\"arr1 * 2 =\", arr1 * 2)\n",
    "print(\"sqrt(arr1) =\", np.sqrt(arr1))\n",
    "# 格式化做法：\n",
    "result = np.sqrt(arr1)\n",
    "formatted = [f\"{x:.3f}\" for x in result]  # 每个数保留3位小数\n",
    "print(f\"sqrt(arr1) = [{', '.join(formatted)}]\")"
   ]
  },
  {
   "cell_type": "code",
   "execution_count": 66,
   "id": "470f63ab-9969-4350-baeb-51ecde2c8bd7",
   "metadata": {},
   "outputs": [
    {
     "name": "stdout",
     "output_type": "stream",
     "text": [
      "原形状: (2, 3)\n",
      "维度： 2\n",
      "元素数： 6\n",
      "数据类型: int64\n",
      "展平: [1 2 3 4 5 6]\n",
      "转置:\n",
      " [[1 4]\n",
      " [2 5]\n",
      " [3 6]]\n"
     ]
    }
   ],
   "source": [
    "# 形状操作\n",
    "arr = np.array([[1, 2, 3], [4, 5, 6]])\n",
    "print(\"原形状:\", arr.shape)\n",
    "print(\"维度：\",arr.ndim)\n",
    "print(\"元素数：\", arr.size)\n",
    "print(\"数据类型:\", arr.dtype)\n",
    "print(\"展平:\", arr.flatten())\n",
    "print(\"转置:\\n\", arr.T)"
   ]
  },
  {
   "cell_type": "code",
   "execution_count": 75,
   "id": "99830492-7628-48fd-88f1-59fdfae6cab5",
   "metadata": {},
   "outputs": [
    {
     "name": "stdout",
     "output_type": "stream",
     "text": [
      "2\n",
      "[4 5 6]\n",
      "\n",
      "\n",
      "[[2 3]\n",
      " [5 6]]\n",
      "\n",
      "\n",
      "[1 4 7]\n"
     ]
    }
   ],
   "source": [
    "# 索引与切片\n",
    "arr = np.array([[1,2,3],\n",
    "               [4,5,6],\n",
    "               [7,8,9]])\n",
    "# 索引\n",
    "print(arr[0,1])  # 2 → 第0行第1列\n",
    "print(arr[1])  # [4, 5, 6] → 第1行\n",
    "print('\\n')\n",
    "# 切片\n",
    "print(arr[0:2,1:3]) # [[2, 3], [5, 6]] → 前两行，第1~2列\n",
    "print('\\n')\n",
    "print(arr[:, 0]) # [1, 4, 7] → 所有行的第0列"
   ]
  },
  {
   "cell_type": "markdown",
   "id": "31b8b0fa-0009-40b5-a7d8-d372f7ba229f",
   "metadata": {},
   "source": [
    "# Pandas\n"
   ]
  },
  {
   "cell_type": "markdown",
   "id": "e5883b5c-a807-4fbb-b3eb-e7d97dd133e7",
   "metadata": {},
   "source": [
    "```\n",
    "# 读取数据\n",
    "# 读取 CSV 文件\n",
    "df = pd.read_csv('data.csv')\n",
    "\n",
    "# 读取 Excel 文件\n",
    "df = pd.read_excel('data.xlsx')\n",
    "\n",
    "# 读取 JSON\n",
    "df = pd.read_json('data.json')\n",
    "\n",
    "# 读取网址（如 Wikipedia 表格）\n",
    "# df = pd.read_html('https://example.com')[0]\n",
    "```"
   ]
  },
  {
   "cell_type": "code",
   "execution_count": 84,
   "id": "e1426922-dbf7-4eac-9301-031ab7d17624",
   "metadata": {},
   "outputs": [
    {
     "name": "stdout",
     "output_type": "stream",
     "text": [
      "a    1\n",
      "b    3\n",
      "c    5\n",
      "d    7\n",
      "dtype: int64\n",
      "\n",
      "\n",
      "原始数据：\n",
      "   姓名  年龄  成绩  城市\n",
      "0  小明  20  85  北京\n",
      "1  小红  22  92  上海\n",
      "2  小刚  21  78  北京\n",
      "3  小丽  19  88  广州\n",
      "\n",
      "👉 前两行：\n",
      "   姓名  年龄  成绩  城市\n",
      "0  小明  20  85  北京\n",
      "1  小红  22  92  上海\n",
      "\n",
      "👉 后两行：\n",
      "   姓名  年龄  成绩  城市\n",
      "2  小刚  21  78  北京\n",
      "3  小丽  19  88  广州\n"
     ]
    }
   ],
   "source": [
    "import pandas as pd\n",
    "\n",
    "# Series：一维数组（带索引）\n",
    "s = pd.Series([1, 3, 5, 7], index=['a', 'b', 'c', 'd'])\n",
    "print(s)\n",
    "print('\\n')\n",
    "\n",
    "# 创建 DataFrame二维表格（像 Excel）\n",
    "data = {\n",
    "    '姓名': ['小明', '小红', '小刚', '小丽'],\n",
    "    '年龄': [20, 22, 21, 19],\n",
    "    '成绩': [85, 92, 78, 88],\n",
    "    '城市': ['北京', '上海', '北京', '广州']\n",
    "}\n",
    "df = pd.DataFrame(data)\n",
    "\n",
    "print(\"原始数据：\")\n",
    "print(df)\n",
    "\n",
    "# 查看数据\n",
    "print(\"\\n👉 前两行：\")\n",
    "print(df.head(2))\n",
    "# 显示后几行\n",
    "print(\"\\n👉 后两行：\")\n",
    "print(df.tail(2))        # 后5行"
   ]
  },
  {
   "cell_type": "code",
   "execution_count": 85,
   "id": "b60c5e7a-1a66-49fc-95ef-ac1a7a13ab21",
   "metadata": {},
   "outputs": [
    {
     "name": "stdout",
     "output_type": "stream",
     "text": [
      "\n",
      "👉 数据信息：\n",
      "<class 'pandas.core.frame.DataFrame'>\n",
      "RangeIndex: 4 entries, 0 to 3\n",
      "Data columns (total 4 columns):\n",
      " #   Column  Non-Null Count  Dtype \n",
      "---  ------  --------------  ----- \n",
      " 0   姓名      4 non-null      object\n",
      " 1   年龄      4 non-null      int64 \n",
      " 2   成绩      4 non-null      int64 \n",
      " 3   城市      4 non-null      object\n",
      "dtypes: int64(2), object(2)\n",
      "memory usage: 260.0+ bytes\n",
      "\n",
      "👉 统计摘要：\n",
      "              年龄         成绩\n",
      "count   4.000000   4.000000\n",
      "mean   20.500000  85.750000\n",
      "std     1.290994   5.909033\n",
      "min    19.000000  78.000000\n",
      "25%    19.750000  83.250000\n",
      "50%    20.500000  86.500000\n",
      "75%    21.250000  89.000000\n",
      "max    22.000000  92.000000\n"
     ]
    }
   ],
   "source": [
    "# 数据信息\n",
    "print(\"\\n👉 数据信息：\")\n",
    "df.info()        # 列名、数据类型、非空值数量\n",
    "\n",
    "print(\"\\n👉 统计摘要：\")\n",
    "print(df.describe())"
   ]
  },
  {
   "cell_type": "markdown",
   "id": "5d9b4318-5680-454b-bf3d-6be860f0ee0f",
   "metadata": {},
   "source": [
    "* count：数据个数\n",
    "* std：标准差（Standard Deviation）\n",
    "标准差小 → 数据都差不多\n",
    "标准差大 → 数据差异大\n",
    "* 25%, 50%, 75%：四分位数（Quartiles）"
   ]
  },
  {
   "cell_type": "code",
   "execution_count": 20,
   "id": "ed5ab582-8a70-474c-bd81-400bd11f7317",
   "metadata": {},
   "outputs": [
    {
     "name": "stdout",
     "output_type": "stream",
     "text": [
      "\n",
      "👉 选择‘成绩’列：\n",
      "0    85\n",
      "1    92\n",
      "2    78\n",
      "3    88\n",
      "Name: 成绩, dtype: int64\n",
      "\n",
      "👉 选择多列：\n",
      "   姓名  成绩\n",
      "0  小明  85\n",
      "1  小红  92\n",
      "2  小刚  78\n",
      "3  小丽  88\n",
      "\n",
      "👉 条件筛选（成绩 > 85）：\n",
      "   姓名  年龄  成绩  城市\n",
      "1  小红  22  92  上海\n",
      "3  小丽  19  88  广州\n"
     ]
    }
   ],
   "source": [
    "# 选择数据\n",
    "print(\"\\n👉 选择‘成绩’列：\")\n",
    "print(df['成绩'])\n",
    "\n",
    "print(\"\\n👉 选择多列：\")\n",
    "print(df[['姓名', '成绩']])\n",
    "\n",
    "print(\"\\n👉 条件筛选（成绩 > 85）：\")\n",
    "print(df[df['成绩'] > 85])"
   ]
  },
  {
   "cell_type": "code",
   "execution_count": 21,
   "id": "7acf621c-7698-43bf-9c96-1714653c41bc",
   "metadata": {},
   "outputs": [
    {
     "name": "stdout",
     "output_type": "stream",
     "text": [
      "\n",
      "👉 添加‘等级’列后：\n",
      "   姓名  年龄  成绩  城市 等级\n",
      "0  小明  20  85  北京  B\n",
      "1  小红  22  92  上海  A\n",
      "2  小刚  21  78  北京  C\n",
      "3  小丽  19  88  广州  B\n",
      "\n",
      "👉 按城市分组求平均年龄：\n",
      "城市\n",
      "上海    22.0\n",
      "北京    20.5\n",
      "广州    19.0\n",
      "Name: 年龄, dtype: float64\n"
     ]
    }
   ],
   "source": [
    "# 添加新列\n",
    "df['等级'] = ['B', 'A', 'C', 'B']\n",
    "print(\"\\n👉 添加‘等级’列后：\")\n",
    "print(df)\n",
    "\n",
    "# 分组统计\n",
    "print(\"\\n👉 按城市分组求平均年龄：\")\n",
    "print(df.groupby('城市')['年龄'].mean())"
   ]
  },
  {
   "cell_type": "markdown",
   "id": "c98f69ce-addf-4e2c-ae61-24fce5b85e89",
   "metadata": {},
   "source": [
    "# Matplotlib"
   ]
  },
  {
   "cell_type": "code",
   "execution_count": 43,
   "id": "e501ded9-d6ff-4070-8f80-6d03a5b643b4",
   "metadata": {},
   "outputs": [
    {
     "data": {
      "image/png": "[encoded data removed]",
      "text/plain": [
       "<Figure size 640x480 with 1 Axes>"
      ]
     },
     "metadata": {},
     "output_type": "display_data"
    }
   ],
   "source": [
    "import matplotlib.pyplot as plt\n",
    "\n",
    "# 基本用法\n",
    "x = [1, 2, 3, 4]\n",
    "y = [1, 4, 2, 3]\n",
    "\n",
    "plt.plot(x, y)           # 折线图\n",
    "\n",
    "# 美化\n",
    "plt.grid(True)\n",
    "\n",
    "# 必加：显示图像\n",
    "plt.show()"
   ]
  },
  {
   "cell_type": "markdown",
   "id": "40019060-dbfb-409c-9dfe-f15a88bf1adc",
   "metadata": {},
   "source": [
    "```\n",
    "plt.plot(x, y)           # 折线图\n",
    "plt.scatter(x, y)        # 散点图\n",
    "plt.bar(x, y)            # 柱状图\n",
    "plt.hist(np.random.randn(1000), bins=30)  # 直方图\n",
    "\n",
    "# 必加：显示图像\n",
    "plt.show()\n",
    "\n",
    "# 美化\n",
    "plt.title(\"我的第一个图\")\n",
    "plt.xlabel(\"X轴\")\n",
    "plt.ylabel(\"Y轴\")\n",
    "plt.grid(True)\n",
    "\n",
    "# 多图\n",
    "plt.subplot(1, 2, 1)\n",
    "plt.plot(x, y)\n",
    "plt.subplot(1, 2, 2)\n",
    "plt.scatter(x, y)\n",
    "plt.show()\n",
    "```"
   ]
  },
  {
   "cell_type": "markdown",
   "id": "82b63127-f58b-4a0f-a2ff-89baf94faf3a",
   "metadata": {},
   "source": [
    "# SciPy"
   ]
  },
  {
   "cell_type": "code",
   "execution_count": 57,
   "id": "a7a083ef-76c2-4238-aba3-2ddeff828eef",
   "metadata": {},
   "outputs": [
    {
     "name": "stdout",
     "output_type": "stream",
     "text": [
      "班级A 平均成绩: 73.11853104148963\n",
      "班级B 平均成绩: 78.78837529710057\n",
      "\n",
      "T检验结果：\n",
      "t 统计量 = -2.398\n",
      "p 值 = 0.020\n",
      "👉 两班成绩有显著差异（p < 0.05）\n"
     ]
    }
   ],
   "source": [
    "from scipy import stats\n",
    "import numpy as np\n",
    "\n",
    "# 设置随机种子，让结果可重现\n",
    "np.random.seed(42)\n",
    "\n",
    "# 创建两组数据（例如：两班学生的成绩）\n",
    "group1 = np.random.normal(75, 10, 30)  # 班级A：均值75，标准差10，30人\n",
    "group2 = np.random.normal(80, 10, 30)  # 班级B：均值80，标准差10，30人\n",
    "\n",
    "# 打印基本信息\n",
    "print(\"班级A 平均成绩:\", group1.mean())\n",
    "print(\"班级B 平均成绩:\", group2.mean())\n",
    "\n",
    "# 进行独立样本 T 检验\n",
    "t_stat, p_value = stats.ttest_ind(group1, group2)\n",
    "\n",
    "print(f\"\\nT检验结果：\")\n",
    "print(f\"t 统计量 = {t_stat:.3f}\")\n",
    "print(f\"p 值 = {p_value:.3f}\")\n",
    "\n",
    "# 判断是否显著\n",
    "alpha = 0.05\n",
    "if p_value < alpha:\n",
    "    print(\"👉 两班成绩有显著差异（p < 0.05）\")\n",
    "else:\n",
    "    print(\"👉 两班成绩无显著差异（p >= 0.05）\")"
   ]
  }
 ],
 "metadata": {
  "kernelspec": {
   "display_name": "hands-on",
   "language": "python",
   "name": "hands-on"
  },
  "language_info": {
   "codemirror_mode": {
    "name": "ipython",
    "version": 3
   },
   "file_extension": ".py",
   "mimetype": "text/x-python",
   "name": "python",
   "nbconvert_exporter": "python",
   "pygments_lexer": "ipython3",
   "version": "3.13.5"
  }
 },
 "nbformat": 4,
 "nbformat_minor": 5
}
