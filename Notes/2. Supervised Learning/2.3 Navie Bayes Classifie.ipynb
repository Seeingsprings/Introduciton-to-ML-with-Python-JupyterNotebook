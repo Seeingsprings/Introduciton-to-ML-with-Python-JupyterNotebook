{
 "cells": [
  {
   "cell_type": "markdown",
   "id": "5570c299-761b-40cb-ba55-59f2fa02b122",
   "metadata": {},
   "source": [
    "# Naive Bayes Classifie\n",
    "\n",
    "**朴素贝叶斯 Naive Bayes**是常用于自然语言分类问题的算法。**它在垃圾邮件过滤上的应用非\n",
    "常有名**\n",
    "\n",
    "朴素贝叶斯是一个基于概率进行预测的算法，在实践中被用于分类问题。\n",
    "\n",
    "具体来说，就是计算数据为某个标签的概率，并将其分类为概率值最大的标签。\n",
    "\n",
    "## Bayes' Theorem Formula: \n",
    "\n",
    "Naive Bayes is a probabilistic classifier (概率分类器) based on Bayes' Theorem (贝叶斯定理). \n",
    "\n",
    "> $$\n",
    "> P(A|B) = \\frac{P(B|A) \\cdot P(A)}{P(B)}\n",
    "> $$\n",
    "> \n",
    "> - $ P(A|B) $ : Probability of A given B → **Posterior probability** (后验概率)\n",
    "> - $ P(B|A) $ : Probability of B given A → **Likelihood** (似然)\n",
    "> - $ P(A) $ : Probability of A → **Prior probability** (先验概率)\n",
    "> - $ P(B) $ : Probability of B → **Evidence** (证据)\n",
    "\n",
    "-------\n",
    "\n",
    "\n",
    "朴素贝叶斯分类器是与上一节介绍的线性模型非常相似的一种分类器，但它的训练速度往\n",
    "往更快。这种高效率所付出的代价是，朴素贝叶斯模型的泛化能力要比线性分类器（如\n",
    "LogisticRegression和LinearSVC）稍差。\n",
    "\n",
    "**朴素贝叶斯 = 用概率做分类 + 忽略特征之间的关系 + 极其高效**  \n",
    "它不是最准的，但往往是最快、最简单的选择！\n"
   ]
  },
  {
   "cell_type": "markdown",
   "id": "629328dd-3bbd-41d5-957d-5ce302ad1a54",
   "metadata": {},
   "source": [
    "## 为什么叫“朴素”？\n",
    "\n",
    "因为它的核心假设是：\n",
    "\n",
    "> **所有特征彼此独立**，即某个特征出现与否不影响其他特征。\n",
    "\n",
    "比如判断一封邮件是不是垃圾邮件：\n",
    "\n",
    "- 它认为：“出现‘免费’和‘中奖’这两个词是独立事件”\n",
    "- 实际上它们可能相关，但模型忽略这一点 → 这就是“朴素”\n",
    "\n",
    "尽管如此，这个假设让计算变得**极其简单快速**，所以它在很多场景下表现非常好！\n",
    "\n"
   ]
  },
  {
   "cell_type": "markdown",
   "id": "d202f0b2-bb45-48e5-a210-0a9906d2912b",
   "metadata": {},
   "source": [
    "## 分类\n",
    "\n",
    "\n",
    "| 模型 | 学习什么？ | 举个例子 |\n",
    "|------|------------|----------|\n",
    "| `BernoulliNB` | 每个类别的每个特征中，**1 的个数** | 文本中某个词是否出现 |\n",
    "| `MultinomialNB` | 每个类别的每个特征的**平均值** | 文本中某个词出现的**次数** |\n",
    "| `GaussianNB` | 每个类别的每个特征的**均值和标准差** | 身高、体重等连续变量 |\n",
    "\n",
    "> 💡 文中提到的 `BernoulliNB` 和 `MultinomialNB` 主要用于**文本分类**，比如垃圾邮件识别、情感分析等。\n",
    "\n",
    "\n",
    "## BernoulliNB分类器"
   ]
  },
  {
   "cell_type": "code",
   "execution_count": 26,
   "id": "580df66f-ce42-4c94-9d49-87a006e2f82a",
   "metadata": {},
   "outputs": [],
   "source": [
    "import numpy as np\n",
    "import pandas as pd\n",
    "import matplotlib.pyplot as plt\n",
    "import seaborn as sns\n",
    "from sklearn.datasets import load_breast_cancer\n",
    "from sklearn.model_selection import train_test_split\n",
    "from sklearn.linear_model import LogisticRegression\n",
    "from sklearn.metrics import accuracy_score, classification_report, confusion_matrix"
   ]
  },
  {
   "cell_type": "code",
   "execution_count": 27,
   "id": "88f330c4-5bc7-4195-9fa6-7018e1f66171",
   "metadata": {},
   "outputs": [],
   "source": [
    "X = np.array([[0, 1, 0, 1], \n",
    "              [1, 0, 1, 1], \n",
    "              [0, 0, 0, 1], \n",
    "              [1, 0, 1, 0]]) \n",
    "y = np.array([0, 1, 0, 1])\n"
   ]
  },
  {
   "cell_type": "markdown",
   "id": "844a2a2c-262b-448d-a4da-6e42770e6609",
   "metadata": {},
   "source": [
    "这里我们有4个数据点，每个点有4个二分类特征。一共有两个类别：0和1。对于类别0\n",
    "（第1、3个数据点），第一个特征有2个为零、0个不为零，第二个特征有1个为零、1个\n",
    "不为零，以此类推。然后对类别1中的数据点计算相同的计数。计算每个类别中的非零元\n",
    "素个数，大体上看起来像这样"
   ]
  },
  {
   "cell_type": "code",
   "execution_count": 28,
   "id": "cb924200-fdcf-4186-a9fd-bdd2d5392117",
   "metadata": {},
   "outputs": [
    {
     "name": "stdout",
     "output_type": "stream",
     "text": [
      "Feature counts:\n",
      "{np.int64(0): array([0, 1, 0, 2]), np.int64(1): array([2, 0, 2, 1])}\n"
     ]
    }
   ],
   "source": [
    "counts = {} \n",
    "for label in np.unique(y): \n",
    "    # 对每个类别进行遍历 \n",
    "    # 计算（求和）每个特征中1的个数 \n",
    "    counts[label] = X[y == label].sum(axis=0) \n",
    "print(\"Feature counts:\\n{}\".format(counts))"
   ]
  },
  {
   "cell_type": "markdown",
   "id": "56477015-9896-40ed-9e86-593c3ccc6db8",
   "metadata": {},
   "source": [
    "解释一下：\n",
    "\n",
    "类别1（也就是第一行和第三行），是特征0\n",
    "\n",
    "返回的[0,1,0,2] 就是两行相加的结果，同时也是“类别0中每个特征的1的个数”\n",
    "\n",
    "所以特征0中有 0 个1，特征1中有 1 个1，特征2中有 0 个1，特征3中有 2 个1\n",
    "\n",
    "就是这个意思，很聪明吧\n"
   ]
  },
  {
   "cell_type": "markdown",
   "id": "99f3f5ea-72d7-4621-965c-1ddc9f54f247",
   "metadata": {},
   "source": [
    "# Spam Classification\n",
    "1. **Prepare data**: Collect emails labeled as spam or ham.\n",
    "2. **Preprocess text**: Clean and tokenize the text (分词).\n",
    "3. **Train model**: Use Naive Bayes to learn from training data.\n",
    "4. **Test model**: Predict new emails.\n",
    "5. **Evaluate**: Check accuracy."
   ]
  },
  {
   "cell_type": "code",
   "execution_count": 29,
   "id": "6afc12d6-1235-42cd-8c00-6899cf1e9fd9",
   "metadata": {},
   "outputs": [],
   "source": [
    "import pandas as pd\n",
    "from sklearn.model_selection import train_test_split\n",
    "from sklearn.feature_extraction.text import CountVectorizer\n",
    "from sklearn.naive_bayes import MultinomialNB\n",
    "from sklearn.metrics import accuracy_score, classification_report"
   ]
  },
  {
   "cell_type": "code",
   "execution_count": 30,
   "id": "b029d92b-f615-4671-a026-11b232b81b3f",
   "metadata": {},
   "outputs": [
    {
     "name": "stdout",
     "output_type": "stream",
     "text": [
      "                             email label\n",
      "0                  Free money now!  spam\n",
      "1                   Win cash fast!  spam\n",
      "2    Call you later, meeting at 5?   ham\n",
      "3         Congrats! You won $1000!  spam\n",
      "4          Can we schedule a call?   ham\n",
      "5        URGENT: Claim your prize!  spam\n",
      "6         Thanks for the document.   ham\n",
      "7  Make money fast with no effort.  spam\n"
     ]
    }
   ],
   "source": [
    "# Create a simple dataset\n",
    "data = {\n",
    "    'email': [\n",
    "        'Free money now!',                     # spam\n",
    "        'Win cash fast!',                      # spam\n",
    "        'Call you later, meeting at 5?',       # ham\n",
    "        'Congrats! You won $1000!',            # spam\n",
    "        'Can we schedule a call?',             # ham\n",
    "        'URGENT: Claim your prize!',           # spam\n",
    "        'Thanks for the document.',            # ham\n",
    "        'Make money fast with no effort.'      # spam\n",
    "    ],\n",
    "    'label': ['spam', 'spam', 'ham', 'spam', 'ham', 'spam', 'ham', 'spam']\n",
    "}\n",
    "\n",
    "df = pd.DataFrame(data)\n",
    "print(df)"
   ]
  },
  {
   "cell_type": "markdown",
   "id": "dfdecc5c-75aa-4016-957d-1636bd545494",
   "metadata": {},
   "source": [
    " **Step 4: Preprocess Text**\n",
    "\n",
    "We convert text into numbers using Bag-of-Words (词袋模型):\n",
    "\n",
    "Each email becomes a vector showing how many times each word appears."
   ]
  },
  {
   "cell_type": "code",
   "execution_count": 31,
   "id": "83d14308-51f2-4134-8553-450b6f3d4a3e",
   "metadata": {},
   "outputs": [],
   "source": [
    "# Initialize the vectorizer\n",
    "vectorizer = CountVectorizer()\n",
    "\n",
    "# Fit and transform the emails into feature vectors\n",
    "X = vectorizer.fit_transform(df['email'])\n",
    "\n",
    "# Labels (target)\n",
    "y = df['label']"
   ]
  },
  {
   "cell_type": "markdown",
   "id": "993c43fb-6236-4dd2-b0c8-f720e6b0e9df",
   "metadata": {},
   "source": [
    " **Step 5: Split Data**\n",
    "\n",
    "Split into training and testing sets (80% train, 20% test):"
   ]
  },
  {
   "cell_type": "code",
   "execution_count": 32,
   "id": "44d076f0-6ce9-4bc8-b3e7-2b297c0d567e",
   "metadata": {},
   "outputs": [],
   "source": [
    "X_train, X_test, y_train, y_test = train_test_split(\n",
    "    X, y, test_size=0.2, random_state=42, stratify=y\n",
    ")"
   ]
  },
  {
   "cell_type": "markdown",
   "id": "fe436828-4dc6-44a5-a82e-545fd02a78d8",
   "metadata": {},
   "source": [
    "**stratify=y** ensures both classes (spam/ham) are evenly split. "
   ]
  },
  {
   "cell_type": "markdown",
   "id": "ef3f25ff-18cc-4d3d-8460-c4e178dd0c30",
   "metadata": {},
   "source": [
    "**Step 6: Train the Model**\n",
    "    \n",
    "Use Multinomial Naive Bayes:"
   ]
  },
  {
   "cell_type": "code",
   "execution_count": 33,
   "id": "19c55989-c181-41d0-a3ae-24991dbf45bb",
   "metadata": {},
   "outputs": [
    {
     "data": {
      "text/html": [
       "<style>#sk-container-id-1 {\n",
       "  /* Definition of color scheme common for light and dark mode */\n",
       "  --sklearn-color-text: #000;\n",
       "  --sklearn-color-text-muted: #666;\n",
       "  --sklearn-color-line: gray;\n",
       "  /* Definition of color scheme for unfitted estimators */\n",
       "  --sklearn-color-unfitted-level-0: #fff5e6;\n",
       "  --sklearn-color-unfitted-level-1: #f6e4d2;\n",
       "  --sklearn-color-unfitted-level-2: #ffe0b3;\n",
       "  --sklearn-color-unfitted-level-3: chocolate;\n",
       "  /* Definition of color scheme for fitted estimators */\n",
       "  --sklearn-color-fitted-level-0: #f0f8ff;\n",
       "  --sklearn-color-fitted-level-1: #d4ebff;\n",
       "  --sklearn-color-fitted-level-2: #b3dbfd;\n",
       "  --sklearn-color-fitted-level-3: cornflowerblue;\n",
       "\n",
       "  /* Specific color for light theme */\n",
       "  --sklearn-color-text-on-default-background: var(--sg-text-color, var(--theme-code-foreground, var(--jp-content-font-color1, black)));\n",
       "  --sklearn-color-background: var(--sg-background-color, var(--theme-background, var(--jp-layout-color0, white)));\n",
       "  --sklearn-color-border-box: var(--sg-text-color, var(--theme-code-foreground, var(--jp-content-font-color1, black)));\n",
       "  --sklearn-color-icon: #696969;\n",
       "\n",
       "  @media (prefers-color-scheme: dark) {\n",
       "    /* Redefinition of color scheme for dark theme */\n",
       "    --sklearn-color-text-on-default-background: var(--sg-text-color, var(--theme-code-foreground, var(--jp-content-font-color1, white)));\n",
       "    --sklearn-color-background: var(--sg-background-color, var(--theme-background, var(--jp-layout-color0, #111)));\n",
       "    --sklearn-color-border-box: var(--sg-text-color, var(--theme-code-foreground, var(--jp-content-font-color1, white)));\n",
       "    --sklearn-color-icon: #878787;\n",
       "  }\n",
       "}\n",
       "\n",
       "#sk-container-id-1 {\n",
       "  color: var(--sklearn-color-text);\n",
       "}\n",
       "\n",
       "#sk-container-id-1 pre {\n",
       "  padding: 0;\n",
       "}\n",
       "\n",
       "#sk-container-id-1 input.sk-hidden--visually {\n",
       "  border: 0;\n",
       "  clip: rect(1px 1px 1px 1px);\n",
       "  clip: rect(1px, 1px, 1px, 1px);\n",
       "  height: 1px;\n",
       "  margin: -1px;\n",
       "  overflow: hidden;\n",
       "  padding: 0;\n",
       "  position: absolute;\n",
       "  width: 1px;\n",
       "}\n",
       "\n",
       "#sk-container-id-1 div.sk-dashed-wrapped {\n",
       "  border: 1px dashed var(--sklearn-color-line);\n",
       "  margin: 0 0.4em 0.5em 0.4em;\n",
       "  box-sizing: border-box;\n",
       "  padding-bottom: 0.4em;\n",
       "  background-color: var(--sklearn-color-background);\n",
       "}\n",
       "\n",
       "#sk-container-id-1 div.sk-container {\n",
       "  /* jupyter's `normalize.less` sets `[hidden] { display: none; }`\n",
       "     but bootstrap.min.css set `[hidden] { display: none !important; }`\n",
       "     so we also need the `!important` here to be able to override the\n",
       "     default hidden behavior on the sphinx rendered scikit-learn.org.\n",
       "     See: https://github.com/scikit-learn/scikit-learn/issues/21755 */\n",
       "  display: inline-block !important;\n",
       "  position: relative;\n",
       "}\n",
       "\n",
       "#sk-container-id-1 div.sk-text-repr-fallback {\n",
       "  display: none;\n",
       "}\n",
       "\n",
       "div.sk-parallel-item,\n",
       "div.sk-serial,\n",
       "div.sk-item {\n",
       "  /* draw centered vertical line to link estimators */\n",
       "  background-image: linear-gradient(var(--sklearn-color-text-on-default-background), var(--sklearn-color-text-on-default-background));\n",
       "  background-size: 2px 100%;\n",
       "  background-repeat: no-repeat;\n",
       "  background-position: center center;\n",
       "}\n",
       "\n",
       "/* Parallel-specific style estimator block */\n",
       "\n",
       "#sk-container-id-1 div.sk-parallel-item::after {\n",
       "  content: \"\";\n",
       "  width: 100%;\n",
       "  border-bottom: 2px solid var(--sklearn-color-text-on-default-background);\n",
       "  flex-grow: 1;\n",
       "}\n",
       "\n",
       "#sk-container-id-1 div.sk-parallel {\n",
       "  display: flex;\n",
       "  align-items: stretch;\n",
       "  justify-content: center;\n",
       "  background-color: var(--sklearn-color-background);\n",
       "  position: relative;\n",
       "}\n",
       "\n",
       "#sk-container-id-1 div.sk-parallel-item {\n",
       "  display: flex;\n",
       "  flex-direction: column;\n",
       "}\n",
       "\n",
       "#sk-container-id-1 div.sk-parallel-item:first-child::after {\n",
       "  align-self: flex-end;\n",
       "  width: 50%;\n",
       "}\n",
       "\n",
       "#sk-container-id-1 div.sk-parallel-item:last-child::after {\n",
       "  align-self: flex-start;\n",
       "  width: 50%;\n",
       "}\n",
       "\n",
       "#sk-container-id-1 div.sk-parallel-item:only-child::after {\n",
       "  width: 0;\n",
       "}\n",
       "\n",
       "/* Serial-specific style estimator block */\n",
       "\n",
       "#sk-container-id-1 div.sk-serial {\n",
       "  display: flex;\n",
       "  flex-direction: column;\n",
       "  align-items: center;\n",
       "  background-color: var(--sklearn-color-background);\n",
       "  padding-right: 1em;\n",
       "  padding-left: 1em;\n",
       "}\n",
       "\n",
       "\n",
       "/* Toggleable style: style used for estimator/Pipeline/ColumnTransformer box that is\n",
       "clickable and can be expanded/collapsed.\n",
       "- Pipeline and ColumnTransformer use this feature and define the default style\n",
       "- Estimators will overwrite some part of the style using the `sk-estimator` class\n",
       "*/\n",
       "\n",
       "/* Pipeline and ColumnTransformer style (default) */\n",
       "\n",
       "#sk-container-id-1 div.sk-toggleable {\n",
       "  /* Default theme specific background. It is overwritten whether we have a\n",
       "  specific estimator or a Pipeline/ColumnTransformer */\n",
       "  background-color: var(--sklearn-color-background);\n",
       "}\n",
       "\n",
       "/* Toggleable label */\n",
       "#sk-container-id-1 label.sk-toggleable__label {\n",
       "  cursor: pointer;\n",
       "  display: flex;\n",
       "  width: 100%;\n",
       "  margin-bottom: 0;\n",
       "  padding: 0.5em;\n",
       "  box-sizing: border-box;\n",
       "  text-align: center;\n",
       "  align-items: start;\n",
       "  justify-content: space-between;\n",
       "  gap: 0.5em;\n",
       "}\n",
       "\n",
       "#sk-container-id-1 label.sk-toggleable__label .caption {\n",
       "  font-size: 0.6rem;\n",
       "  font-weight: lighter;\n",
       "  color: var(--sklearn-color-text-muted);\n",
       "}\n",
       "\n",
       "#sk-container-id-1 label.sk-toggleable__label-arrow:before {\n",
       "  /* Arrow on the left of the label */\n",
       "  content: \"▸\";\n",
       "  float: left;\n",
       "  margin-right: 0.25em;\n",
       "  color: var(--sklearn-color-icon);\n",
       "}\n",
       "\n",
       "#sk-container-id-1 label.sk-toggleable__label-arrow:hover:before {\n",
       "  color: var(--sklearn-color-text);\n",
       "}\n",
       "\n",
       "/* Toggleable content - dropdown */\n",
       "\n",
       "#sk-container-id-1 div.sk-toggleable__content {\n",
       "  display: none;\n",
       "  text-align: left;\n",
       "  /* unfitted */\n",
       "  background-color: var(--sklearn-color-unfitted-level-0);\n",
       "}\n",
       "\n",
       "#sk-container-id-1 div.sk-toggleable__content.fitted {\n",
       "  /* fitted */\n",
       "  background-color: var(--sklearn-color-fitted-level-0);\n",
       "}\n",
       "\n",
       "#sk-container-id-1 div.sk-toggleable__content pre {\n",
       "  margin: 0.2em;\n",
       "  border-radius: 0.25em;\n",
       "  color: var(--sklearn-color-text);\n",
       "  /* unfitted */\n",
       "  background-color: var(--sklearn-color-unfitted-level-0);\n",
       "}\n",
       "\n",
       "#sk-container-id-1 div.sk-toggleable__content.fitted pre {\n",
       "  /* unfitted */\n",
       "  background-color: var(--sklearn-color-fitted-level-0);\n",
       "}\n",
       "\n",
       "#sk-container-id-1 input.sk-toggleable__control:checked~div.sk-toggleable__content {\n",
       "  /* Expand drop-down */\n",
       "  display: block;\n",
       "  width: 100%;\n",
       "  overflow: visible;\n",
       "}\n",
       "\n",
       "#sk-container-id-1 input.sk-toggleable__control:checked~label.sk-toggleable__label-arrow:before {\n",
       "  content: \"▾\";\n",
       "}\n",
       "\n",
       "/* Pipeline/ColumnTransformer-specific style */\n",
       "\n",
       "#sk-container-id-1 div.sk-label input.sk-toggleable__control:checked~label.sk-toggleable__label {\n",
       "  color: var(--sklearn-color-text);\n",
       "  background-color: var(--sklearn-color-unfitted-level-2);\n",
       "}\n",
       "\n",
       "#sk-container-id-1 div.sk-label.fitted input.sk-toggleable__control:checked~label.sk-toggleable__label {\n",
       "  background-color: var(--sklearn-color-fitted-level-2);\n",
       "}\n",
       "\n",
       "/* Estimator-specific style */\n",
       "\n",
       "/* Colorize estimator box */\n",
       "#sk-container-id-1 div.sk-estimator input.sk-toggleable__control:checked~label.sk-toggleable__label {\n",
       "  /* unfitted */\n",
       "  background-color: var(--sklearn-color-unfitted-level-2);\n",
       "}\n",
       "\n",
       "#sk-container-id-1 div.sk-estimator.fitted input.sk-toggleable__control:checked~label.sk-toggleable__label {\n",
       "  /* fitted */\n",
       "  background-color: var(--sklearn-color-fitted-level-2);\n",
       "}\n",
       "\n",
       "#sk-container-id-1 div.sk-label label.sk-toggleable__label,\n",
       "#sk-container-id-1 div.sk-label label {\n",
       "  /* The background is the default theme color */\n",
       "  color: var(--sklearn-color-text-on-default-background);\n",
       "}\n",
       "\n",
       "/* On hover, darken the color of the background */\n",
       "#sk-container-id-1 div.sk-label:hover label.sk-toggleable__label {\n",
       "  color: var(--sklearn-color-text);\n",
       "  background-color: var(--sklearn-color-unfitted-level-2);\n",
       "}\n",
       "\n",
       "/* Label box, darken color on hover, fitted */\n",
       "#sk-container-id-1 div.sk-label.fitted:hover label.sk-toggleable__label.fitted {\n",
       "  color: var(--sklearn-color-text);\n",
       "  background-color: var(--sklearn-color-fitted-level-2);\n",
       "}\n",
       "\n",
       "/* Estimator label */\n",
       "\n",
       "#sk-container-id-1 div.sk-label label {\n",
       "  font-family: monospace;\n",
       "  font-weight: bold;\n",
       "  display: inline-block;\n",
       "  line-height: 1.2em;\n",
       "}\n",
       "\n",
       "#sk-container-id-1 div.sk-label-container {\n",
       "  text-align: center;\n",
       "}\n",
       "\n",
       "/* Estimator-specific */\n",
       "#sk-container-id-1 div.sk-estimator {\n",
       "  font-family: monospace;\n",
       "  border: 1px dotted var(--sklearn-color-border-box);\n",
       "  border-radius: 0.25em;\n",
       "  box-sizing: border-box;\n",
       "  margin-bottom: 0.5em;\n",
       "  /* unfitted */\n",
       "  background-color: var(--sklearn-color-unfitted-level-0);\n",
       "}\n",
       "\n",
       "#sk-container-id-1 div.sk-estimator.fitted {\n",
       "  /* fitted */\n",
       "  background-color: var(--sklearn-color-fitted-level-0);\n",
       "}\n",
       "\n",
       "/* on hover */\n",
       "#sk-container-id-1 div.sk-estimator:hover {\n",
       "  /* unfitted */\n",
       "  background-color: var(--sklearn-color-unfitted-level-2);\n",
       "}\n",
       "\n",
       "#sk-container-id-1 div.sk-estimator.fitted:hover {\n",
       "  /* fitted */\n",
       "  background-color: var(--sklearn-color-fitted-level-2);\n",
       "}\n",
       "\n",
       "/* Specification for estimator info (e.g. \"i\" and \"?\") */\n",
       "\n",
       "/* Common style for \"i\" and \"?\" */\n",
       "\n",
       ".sk-estimator-doc-link,\n",
       "a:link.sk-estimator-doc-link,\n",
       "a:visited.sk-estimator-doc-link {\n",
       "  float: right;\n",
       "  font-size: smaller;\n",
       "  line-height: 1em;\n",
       "  font-family: monospace;\n",
       "  background-color: var(--sklearn-color-background);\n",
       "  border-radius: 1em;\n",
       "  height: 1em;\n",
       "  width: 1em;\n",
       "  text-decoration: none !important;\n",
       "  margin-left: 0.5em;\n",
       "  text-align: center;\n",
       "  /* unfitted */\n",
       "  border: var(--sklearn-color-unfitted-level-1) 1pt solid;\n",
       "  color: var(--sklearn-color-unfitted-level-1);\n",
       "}\n",
       "\n",
       ".sk-estimator-doc-link.fitted,\n",
       "a:link.sk-estimator-doc-link.fitted,\n",
       "a:visited.sk-estimator-doc-link.fitted {\n",
       "  /* fitted */\n",
       "  border: var(--sklearn-color-fitted-level-1) 1pt solid;\n",
       "  color: var(--sklearn-color-fitted-level-1);\n",
       "}\n",
       "\n",
       "/* On hover */\n",
       "div.sk-estimator:hover .sk-estimator-doc-link:hover,\n",
       ".sk-estimator-doc-link:hover,\n",
       "div.sk-label-container:hover .sk-estimator-doc-link:hover,\n",
       ".sk-estimator-doc-link:hover {\n",
       "  /* unfitted */\n",
       "  background-color: var(--sklearn-color-unfitted-level-3);\n",
       "  color: var(--sklearn-color-background);\n",
       "  text-decoration: none;\n",
       "}\n",
       "\n",
       "div.sk-estimator.fitted:hover .sk-estimator-doc-link.fitted:hover,\n",
       ".sk-estimator-doc-link.fitted:hover,\n",
       "div.sk-label-container:hover .sk-estimator-doc-link.fitted:hover,\n",
       ".sk-estimator-doc-link.fitted:hover {\n",
       "  /* fitted */\n",
       "  background-color: var(--sklearn-color-fitted-level-3);\n",
       "  color: var(--sklearn-color-background);\n",
       "  text-decoration: none;\n",
       "}\n",
       "\n",
       "/* Span, style for the box shown on hovering the info icon */\n",
       ".sk-estimator-doc-link span {\n",
       "  display: none;\n",
       "  z-index: 9999;\n",
       "  position: relative;\n",
       "  font-weight: normal;\n",
       "  right: .2ex;\n",
       "  padding: .5ex;\n",
       "  margin: .5ex;\n",
       "  width: min-content;\n",
       "  min-width: 20ex;\n",
       "  max-width: 50ex;\n",
       "  color: var(--sklearn-color-text);\n",
       "  box-shadow: 2pt 2pt 4pt #999;\n",
       "  /* unfitted */\n",
       "  background: var(--sklearn-color-unfitted-level-0);\n",
       "  border: .5pt solid var(--sklearn-color-unfitted-level-3);\n",
       "}\n",
       "\n",
       ".sk-estimator-doc-link.fitted span {\n",
       "  /* fitted */\n",
       "  background: var(--sklearn-color-fitted-level-0);\n",
       "  border: var(--sklearn-color-fitted-level-3);\n",
       "}\n",
       "\n",
       ".sk-estimator-doc-link:hover span {\n",
       "  display: block;\n",
       "}\n",
       "\n",
       "/* \"?\"-specific style due to the `<a>` HTML tag */\n",
       "\n",
       "#sk-container-id-1 a.estimator_doc_link {\n",
       "  float: right;\n",
       "  font-size: 1rem;\n",
       "  line-height: 1em;\n",
       "  font-family: monospace;\n",
       "  background-color: var(--sklearn-color-background);\n",
       "  border-radius: 1rem;\n",
       "  height: 1rem;\n",
       "  width: 1rem;\n",
       "  text-decoration: none;\n",
       "  /* unfitted */\n",
       "  color: var(--sklearn-color-unfitted-level-1);\n",
       "  border: var(--sklearn-color-unfitted-level-1) 1pt solid;\n",
       "}\n",
       "\n",
       "#sk-container-id-1 a.estimator_doc_link.fitted {\n",
       "  /* fitted */\n",
       "  border: var(--sklearn-color-fitted-level-1) 1pt solid;\n",
       "  color: var(--sklearn-color-fitted-level-1);\n",
       "}\n",
       "\n",
       "/* On hover */\n",
       "#sk-container-id-1 a.estimator_doc_link:hover {\n",
       "  /* unfitted */\n",
       "  background-color: var(--sklearn-color-unfitted-level-3);\n",
       "  color: var(--sklearn-color-background);\n",
       "  text-decoration: none;\n",
       "}\n",
       "\n",
       "#sk-container-id-1 a.estimator_doc_link.fitted:hover {\n",
       "  /* fitted */\n",
       "  background-color: var(--sklearn-color-fitted-level-3);\n",
       "}\n",
       "\n",
       ".estimator-table summary {\n",
       "    padding: .5rem;\n",
       "    font-family: monospace;\n",
       "    cursor: pointer;\n",
       "}\n",
       "\n",
       ".estimator-table details[open] {\n",
       "    padding-left: 0.1rem;\n",
       "    padding-right: 0.1rem;\n",
       "    padding-bottom: 0.3rem;\n",
       "}\n",
       "\n",
       ".estimator-table .parameters-table {\n",
       "    margin-left: auto !important;\n",
       "    margin-right: auto !important;\n",
       "}\n",
       "\n",
       ".estimator-table .parameters-table tr:nth-child(odd) {\n",
       "    background-color: #fff;\n",
       "}\n",
       "\n",
       ".estimator-table .parameters-table tr:nth-child(even) {\n",
       "    background-color: #f6f6f6;\n",
       "}\n",
       "\n",
       ".estimator-table .parameters-table tr:hover {\n",
       "    background-color: #e0e0e0;\n",
       "}\n",
       "\n",
       ".estimator-table table td {\n",
       "    border: 1px solid rgba(106, 105, 104, 0.232);\n",
       "}\n",
       "\n",
       ".user-set td {\n",
       "    color:rgb(255, 94, 0);\n",
       "    text-align: left;\n",
       "}\n",
       "\n",
       ".user-set td.value pre {\n",
       "    color:rgb(255, 94, 0) !important;\n",
       "    background-color: transparent !important;\n",
       "}\n",
       "\n",
       ".default td {\n",
       "    color: black;\n",
       "    text-align: left;\n",
       "}\n",
       "\n",
       ".user-set td i,\n",
       ".default td i {\n",
       "    color: black;\n",
       "}\n",
       "\n",
       ".copy-paste-icon {\n",
       "    background-image: url(data:image/svg+xml;base64,PHN2ZyB4bWxucz0iaHR0cDovL3d3dy53My5vcmcvMjAwMC9zdmciIHZpZXdCb3g9IjAgMCA0NDggNTEyIj48IS0tIUZvbnQgQXdlc29tZSBGcmVlIDYuNy4yIGJ5IEBmb250YXdlc29tZSAtIGh0dHBzOi8vZm9udGF3ZXNvbWUuY29tIExpY2Vuc2UgLSBodHRwczovL2ZvbnRhd2Vzb21lLmNvbS9saWNlbnNlL2ZyZWUgQ29weXJpZ2h0IDIwMjUgRm9udGljb25zLCBJbmMuLS0+PHBhdGggZD0iTTIwOCAwTDMzMi4xIDBjMTIuNyAwIDI0LjkgNS4xIDMzLjkgMTQuMWw2Ny45IDY3LjljOSA5IDE0LjEgMjEuMiAxNC4xIDMzLjlMNDQ4IDMzNmMwIDI2LjUtMjEuNSA0OC00OCA0OGwtMTkyIDBjLTI2LjUgMC00OC0yMS41LTQ4LTQ4bDAtMjg4YzAtMjYuNSAyMS41LTQ4IDQ4LTQ4ek00OCAxMjhsODAgMCAwIDY0LTY0IDAgMCAyNTYgMTkyIDAgMC0zMiA2NCAwIDAgNDhjMCAyNi41LTIxLjUgNDgtNDggNDhMNDggNTEyYy0yNi41IDAtNDgtMjEuNS00OC00OEwwIDE3NmMwLTI2LjUgMjEuNS00OCA0OC00OHoiLz48L3N2Zz4=);\n",
       "    background-repeat: no-repeat;\n",
       "    background-size: 14px 14px;\n",
       "    background-position: 0;\n",
       "    display: inline-block;\n",
       "    width: 14px;\n",
       "    height: 14px;\n",
       "    cursor: pointer;\n",
       "}\n",
       "</style><body><div id=\"sk-container-id-1\" class=\"sk-top-container\"><div class=\"sk-text-repr-fallback\"><pre>MultinomialNB()</pre><b>In a Jupyter environment, please rerun this cell to show the HTML representation or trust the notebook. <br />On GitHub, the HTML representation is unable to render, please try loading this page with nbviewer.org.</b></div><div class=\"sk-container\" hidden><div class=\"sk-item\"><div class=\"sk-estimator fitted sk-toggleable\"><input class=\"sk-toggleable__control sk-hidden--visually\" id=\"sk-estimator-id-1\" type=\"checkbox\" checked><label for=\"sk-estimator-id-1\" class=\"sk-toggleable__label fitted sk-toggleable__label-arrow\"><div><div>MultinomialNB</div></div><div><a class=\"sk-estimator-doc-link fitted\" rel=\"noreferrer\" target=\"_blank\" href=\"https://scikit-learn.org/1.7/modules/generated/sklearn.naive_bayes.MultinomialNB.html\">?<span>Documentation for MultinomialNB</span></a><span class=\"sk-estimator-doc-link fitted\">i<span>Fitted</span></span></div></label><div class=\"sk-toggleable__content fitted\" data-param-prefix=\"\">\n",
       "        <div class=\"estimator-table\">\n",
       "            <details>\n",
       "                <summary>Parameters</summary>\n",
       "                <table class=\"parameters-table\">\n",
       "                  <tbody>\n",
       "                    \n",
       "        <tr class=\"default\">\n",
       "            <td><i class=\"copy-paste-icon\"\n",
       "                 onclick=\"copyToClipboard('alpha',\n",
       "                          this.parentElement.nextElementSibling)\"\n",
       "            ></i></td>\n",
       "            <td class=\"param\">alpha&nbsp;</td>\n",
       "            <td class=\"value\">1.0</td>\n",
       "        </tr>\n",
       "    \n",
       "\n",
       "        <tr class=\"default\">\n",
       "            <td><i class=\"copy-paste-icon\"\n",
       "                 onclick=\"copyToClipboard('force_alpha',\n",
       "                          this.parentElement.nextElementSibling)\"\n",
       "            ></i></td>\n",
       "            <td class=\"param\">force_alpha&nbsp;</td>\n",
       "            <td class=\"value\">True</td>\n",
       "        </tr>\n",
       "    \n",
       "\n",
       "        <tr class=\"default\">\n",
       "            <td><i class=\"copy-paste-icon\"\n",
       "                 onclick=\"copyToClipboard('fit_prior',\n",
       "                          this.parentElement.nextElementSibling)\"\n",
       "            ></i></td>\n",
       "            <td class=\"param\">fit_prior&nbsp;</td>\n",
       "            <td class=\"value\">True</td>\n",
       "        </tr>\n",
       "    \n",
       "\n",
       "        <tr class=\"default\">\n",
       "            <td><i class=\"copy-paste-icon\"\n",
       "                 onclick=\"copyToClipboard('class_prior',\n",
       "                          this.parentElement.nextElementSibling)\"\n",
       "            ></i></td>\n",
       "            <td class=\"param\">class_prior&nbsp;</td>\n",
       "            <td class=\"value\">None</td>\n",
       "        </tr>\n",
       "    \n",
       "                  </tbody>\n",
       "                </table>\n",
       "            </details>\n",
       "        </div>\n",
       "    </div></div></div></div></div><script>function copyToClipboard(text, element) {\n",
       "    // Get the parameter prefix from the closest toggleable content\n",
       "    const toggleableContent = element.closest('.sk-toggleable__content');\n",
       "    const paramPrefix = toggleableContent ? toggleableContent.dataset.paramPrefix : '';\n",
       "    const fullParamName = paramPrefix ? `${paramPrefix}${text}` : text;\n",
       "\n",
       "    const originalStyle = element.style;\n",
       "    const computedStyle = window.getComputedStyle(element);\n",
       "    const originalWidth = computedStyle.width;\n",
       "    const originalHTML = element.innerHTML.replace('Copied!', '');\n",
       "\n",
       "    navigator.clipboard.writeText(fullParamName)\n",
       "        .then(() => {\n",
       "            element.style.width = originalWidth;\n",
       "            element.style.color = 'green';\n",
       "            element.innerHTML = \"Copied!\";\n",
       "\n",
       "            setTimeout(() => {\n",
       "                element.innerHTML = originalHTML;\n",
       "                element.style = originalStyle;\n",
       "            }, 2000);\n",
       "        })\n",
       "        .catch(err => {\n",
       "            console.error('Failed to copy:', err);\n",
       "            element.style.color = 'red';\n",
       "            element.innerHTML = \"Failed!\";\n",
       "            setTimeout(() => {\n",
       "                element.innerHTML = originalHTML;\n",
       "                element.style = originalStyle;\n",
       "            }, 2000);\n",
       "        });\n",
       "    return false;\n",
       "}\n",
       "\n",
       "document.querySelectorAll('.fa-regular.fa-copy').forEach(function(element) {\n",
       "    const toggleableContent = element.closest('.sk-toggleable__content');\n",
       "    const paramPrefix = toggleableContent ? toggleableContent.dataset.paramPrefix : '';\n",
       "    const paramName = element.parentElement.nextElementSibling.textContent.trim();\n",
       "    const fullParamName = paramPrefix ? `${paramPrefix}${paramName}` : paramName;\n",
       "\n",
       "    element.setAttribute('title', fullParamName);\n",
       "});\n",
       "</script></body>"
      ],
      "text/plain": [
       "MultinomialNB()"
      ]
     },
     "execution_count": 33,
     "metadata": {},
     "output_type": "execute_result"
    }
   ],
   "source": [
    "# Create and train the classifier\n",
    "model = MultinomialNB()\n",
    "model.fit(X_train, y_train)"
   ]
  },
  {
   "cell_type": "markdown",
   "id": "3a2708f3-31bd-4f82-ba46-60c9a80ffc78",
   "metadata": {},
   "source": [
    "**Step 7: Make Predictions**"
   ]
  },
  {
   "cell_type": "code",
   "execution_count": 34,
   "id": "291bd7c9-65bf-4dd0-91ba-fb731acb316c",
   "metadata": {},
   "outputs": [
    {
     "name": "stdout",
     "output_type": "stream",
     "text": [
      "Predicted labels: ['spam' 'spam']\n",
      "Actual labels:    ['spam' 'ham']\n"
     ]
    }
   ],
   "source": [
    "# Predict on test set\n",
    "y_pred = model.predict(X_test)\n",
    "\n",
    "# Show results\n",
    "print(\"Predicted labels:\", y_pred)\n",
    "print(\"Actual labels:   \", y_test.values)"
   ]
  },
  {
   "cell_type": "markdown",
   "id": "3f5fdda7-2841-4729-bfdc-56b25105ef2a",
   "metadata": {},
   "source": [
    "**Step 8: Evaluate Performance**"
   ]
  },
  {
   "cell_type": "code",
   "execution_count": 35,
   "id": "76dabb1a-e273-46e1-9b1e-60bdd43130cf",
   "metadata": {},
   "outputs": [
    {
     "name": "stdout",
     "output_type": "stream",
     "text": [
      "\n",
      "Accuracy: 0.50\n",
      "\n",
      "Classification Report:\n",
      "              precision    recall  f1-score   support\n",
      "\n",
      "         ham       0.00      0.00      0.00         1\n",
      "        spam       0.50      1.00      0.67         1\n",
      "\n",
      "    accuracy                           0.50         2\n",
      "   macro avg       0.25      0.50      0.33         2\n",
      "weighted avg       0.25      0.50      0.33         2\n",
      "\n"
     ]
    },
    {
     "name": "stderr",
     "output_type": "stream",
     "text": [
      "D:\\Software\\VR_ev\\hands-on\\Lib\\site-packages\\sklearn\\metrics\\_classification.py:1731: UndefinedMetricWarning: Precision is ill-defined and being set to 0.0 in labels with no predicted samples. Use `zero_division` parameter to control this behavior.\n",
      "  _warn_prf(average, modifier, f\"{metric.capitalize()} is\", result.shape[0])\n",
      "D:\\Software\\VR_ev\\hands-on\\Lib\\site-packages\\sklearn\\metrics\\_classification.py:1731: UndefinedMetricWarning: Precision is ill-defined and being set to 0.0 in labels with no predicted samples. Use `zero_division` parameter to control this behavior.\n",
      "  _warn_prf(average, modifier, f\"{metric.capitalize()} is\", result.shape[0])\n",
      "D:\\Software\\VR_ev\\hands-on\\Lib\\site-packages\\sklearn\\metrics\\_classification.py:1731: UndefinedMetricWarning: Precision is ill-defined and being set to 0.0 in labels with no predicted samples. Use `zero_division` parameter to control this behavior.\n",
      "  _warn_prf(average, modifier, f\"{metric.capitalize()} is\", result.shape[0])\n"
     ]
    }
   ],
   "source": [
    "acc = accuracy_score(y_test, y_pred)\n",
    "print(f\"\\nAccuracy: {acc:.2f}\")\n",
    "\n",
    "print(\"\\nClassification Report:\")\n",
    "print(classification_report(y_test, y_pred))"
   ]
  },
  {
   "cell_type": "markdown",
   "id": "5d2f156e-2579-4c02-b655-50b8c0a971ae",
   "metadata": {},
   "source": [
    "**Try a New Email!** \n",
    "\n",
    "Let’s predict a brand-new email:\n",
    "\n",
    "Spam = junk mail; Ham = normal email"
   ]
  },
  {
   "cell_type": "code",
   "execution_count": 36,
   "id": "e1d60de6-4ac8-4a5a-9e0e-a9e4fe5bf522",
   "metadata": {},
   "outputs": [
    {
     "name": "stdout",
     "output_type": "stream",
     "text": [
      "Prediction: spam\n",
      "Probability [ham, spam]: [0.15334543 0.84665457]\n"
     ]
    }
   ],
   "source": [
    "new_email = [\"Congratulations! You've won a free iPhone!\"]\n",
    "\n",
    "# Must use the same vectorizer (trained on original vocabulary)\n",
    "new_email_vec = vectorizer.transform(new_email)\n",
    "\n",
    "# Predict\n",
    "prediction = model.predict(new_email_vec)\n",
    "probability = model.predict_proba(new_email_vec)\n",
    "\n",
    "print(\"Prediction:\", prediction[0])\n",
    "print(\"Probability [ham, spam]:\", probability[0])"
   ]
  },
  {
   "cell_type": "markdown",
   "id": "0e784515-9e8e-4c0a-ba2f-64571aae5ac8",
   "metadata": {},
   "source": [
    "# SMS\n",
    "let's try a real one.\n",
    "\n",
    "https://www.kaggle.com/datasets/uciml/sms-spam-collection-dataset/data\n",
    "\n",
    "## Step 1: Import Libraries and Load the Data"
   ]
  },
  {
   "cell_type": "code",
   "execution_count": 37,
   "id": "a07a16a8-ce8f-4184-9944-4c7aa0c242b6",
   "metadata": {},
   "outputs": [],
   "source": [
    "import pandas as pd\n",
    "import numpy as np\n",
    "from sklearn.model_selection import train_test_split\n",
    "from sklearn.feature_extraction.text import CountVectorizer, TfidfVectorizer\n",
    "from sklearn.naive_bayes import MultinomialNB\n",
    "from sklearn.metrics import accuracy_score, precision_score, recall_score, classification_report, confusion_matrix\n",
    "import re\n",
    "from nltk.corpus import stopwords"
   ]
  },
  {
   "cell_type": "code",
   "execution_count": 38,
   "id": "3b3b2ea2-eb61-4c82-8752-5ca8ab859cc8",
   "metadata": {},
   "outputs": [
    {
     "name": "stderr",
     "output_type": "stream",
     "text": [
      "[nltk_data] Downloading package stopwords to\n",
      "[nltk_data]     C:\\Users\\22483\\AppData\\Roaming\\nltk_data...\n",
      "[nltk_data]   Package stopwords is already up-to-date!\n"
     ]
    },
    {
     "data": {
      "text/plain": [
       "True"
      ]
     },
     "execution_count": 38,
     "metadata": {},
     "output_type": "execute_result"
    }
   ],
   "source": [
    "import nltk\n",
    "nltk.download('stopwords')"
   ]
  },
  {
   "cell_type": "markdown",
   "id": "4e7e9ed1-ed0b-46e1-a8dd-0a74a4fe6954",
   "metadata": {},
   "source": [
    "## What Are \"Stopwords\"? (停用词)\n",
    "\n",
    "These are very common words in English that usually don’t carry much meaning in text classification. Examples:\n",
    "\n",
    "- `the`, `a`, `an`, `and`, `or`, `but`, `in`, `on`, `at`, `for`, `to`, `of`, `is`, `are`\n",
    "\n",
    "In spam detection:\n",
    "\n",
    "- We often remove them because they appear in both spam and ham.\n",
    "- Removing them helps focus on **important words**, like:\n",
    "\t- `free`, `win`, `prize`, `click`, `urgent` → more likely to be spam"
   ]
  },
  {
   "cell_type": "code",
   "execution_count": 69,
   "id": "3db37011-3ae4-4fb7-80cd-a991b4d01f50",
   "metadata": {},
   "outputs": [
    {
     "name": "stdout",
     "output_type": "stream",
     "text": [
      "     v1                                                 v2 Unnamed: 2  \\\n",
      "0   ham  Go until jurong point, crazy.. Available only ...        NaN   \n",
      "1   ham                      Ok lar... Joking wif u oni...        NaN   \n",
      "2  spam  Free entry in 2 a wkly comp to win FA Cup fina...        NaN   \n",
      "3   ham  U dun say so early hor... U c already then say...        NaN   \n",
      "4   ham  Nah I don't think he goes to usf, he lives aro...        NaN   \n",
      "\n",
      "  Unnamed: 3 Unnamed: 4  \n",
      "0        NaN        NaN  \n",
      "1        NaN        NaN  \n",
      "2        NaN        NaN  \n",
      "3        NaN        NaN  \n",
      "4        NaN        NaN  \n"
     ]
    }
   ],
   "source": [
    "# Load dataset, specify encoding because of special characters\n",
    "df = pd.read_csv('spam.csv', encoding='latin-1')\n",
    "\n",
    "# Look at first 5 rows\n",
    "print(df.head())"
   ]
  },
  {
   "cell_type": "markdown",
   "id": "6033fd44-931e-4011-b9b3-f4046b523e6e",
   "metadata": {},
   "source": [
    "## Step2： Clean the Dataset\n",
    "Also, there are extra unnamed columns. Let's clean it."
   ]
  },
  {
   "cell_type": "code",
   "execution_count": 70,
   "id": "c5662897-6879-4101-8e85-e037a863eebe",
   "metadata": {},
   "outputs": [],
   "source": [
    "# Fix broken column names\n",
    "df.columns = ['label', 'message', 'unknown1', 'unknown2', 'unknown3']\n",
    "\n",
    "# Keep only the first two columns\n",
    "df = df[['label', 'message']]\n",
    "\n",
    "# ⚠️ CRITICAL STEP: Remove any rows where message is NaN or empty\n",
    "df.dropna(subset=['message'], inplace=True)  # Remove missing messages\n",
    "df = df.reset_index(drop=True)               # Reset index"
   ]
  },
  {
   "cell_type": "markdown",
   "id": "0833cb1c-cd32-4d4c-90c9-0c900fe8ceb3",
   "metadata": {},
   "source": [
    "We have 4825 normal messages and 747 spam."
   ]
  },
  {
   "cell_type": "markdown",
   "id": "66f6bad7-ac79-439b-9f77-1d44e3f6655e",
   "metadata": {},
   "source": [
    "## Step 3 : **Text Preprocessing (Clean the Messages)**\n",
    "\n",
    "We remove punctuation, lowercase text, remove stop words like \"the\", \"and\"."
   ]
  },
  {
   "cell_type": "code",
   "execution_count": 84,
   "id": "6cc069d5-dec7-4d16-a4f4-9fbf2a780be0",
   "metadata": {},
   "outputs": [
    {
     "name": "stdout",
     "output_type": "stream",
     "text": [
      "\n",
      "Original vs Cleaned:\n",
      "                                             message  \\\n",
      "0  Go until jurong point, crazy.. Available only ...   \n",
      "1                      Ok lar... Joking wif u oni...   \n",
      "2  Free entry in 2 a wkly comp to win FA Cup fina...   \n",
      "3  U dun say so early hor... U c already then say...   \n",
      "4  Nah I don't think he goes to usf, he lives aro...   \n",
      "\n",
      "                                       clean_message  \n",
      "0  go until jurong point crazy available only in ...  \n",
      "1                            ok lar joking wif u oni  \n",
      "2  free entry in  a wkly comp to win fa cup final...  \n",
      "3        u dun say so early hor u c already then say  \n",
      "4  nah i dont think he goes to usf he lives aroun...  \n"
     ]
    }
   ],
   "source": [
    "# Step 5: Preprocess text\n",
    "def preprocess_text(text):\n",
    "    text = text.lower()\n",
    "    # Only remove non-letters, but keep $ and !\n",
    "    text = re.sub(r'[^a-zA-Z\\s\\$!]', '', text)\n",
    "    return text.strip()\n",
    "\n",
    "# Apply preprocessing to all messages\n",
    "df['clean_message'] = df['message'].apply(preprocess_text)\n",
    "\n",
    "# Show original vs cleaned\n",
    "print(\"\\nOriginal vs Cleaned:\")\n",
    "print(df[['message', 'clean_message']].head())"
   ]
  },
  {
   "cell_type": "markdown",
   "id": "49f1d9c1-4340-4511-9692-757b3777107b",
   "metadata": {},
   "source": [
    "## Step 4:Vectorization — Convert Text to Numbers\n",
    "We use CountVectorizer or TfidfVectorizer.\n",
    "\n",
    "Let’s try TfidfVectorizer — it gives lower weight to common words like “free” if they appear everywhere."
   ]
  },
  {
   "cell_type": "code",
   "execution_count": 89,
   "id": "0556406b-9084-442a-8329-2f6063ba3e3e",
   "metadata": {},
   "outputs": [],
   "source": [
    "from sklearn.feature_extraction.text import CountVectorizer\n",
    "\n",
    "vectorizer = CountVectorizer(\n",
    "    max_features=5000,\n",
    "    stop_words=None,       # ← Let’s NOT remove stopwords automatically\n",
    "    ngram_range=(1, 2)     # ← Add bigrams like \"won money\", \"click here\"\n",
    ")\n",
    "X = vectorizer.fit_transform(df['clean_message'])\n",
    "\n",
    "# Labels (target): spam or ham\n",
    "y = df['label']"
   ]
  },
  {
   "cell_type": "markdown",
   "id": "61cc7da2-a07e-4aeb-97fc-13029b57c869",
   "metadata": {},
   "source": [
    "## Step 5: Split into Training and Testing Sets"
   ]
  },
  {
   "cell_type": "code",
   "execution_count": 90,
   "id": "93e9992f-dac2-443c-b677-7442eec3c339",
   "metadata": {},
   "outputs": [
    {
     "name": "stdout",
     "output_type": "stream",
     "text": [
      "Training samples: 4457\n",
      "Testing samples:  1115\n"
     ]
    }
   ],
   "source": [
    "# Split: 80% training, 20% testing\n",
    "X_train, X_test, y_train, y_test = train_test_split(\n",
    "    X, y, test_size=0.2, random_state=42, stratify=y\n",
    ")\n",
    "\n",
    "print(\"Training samples:\", X_train.shape[0])\n",
    "print(\"Testing samples: \", X_test.shape[0])"
   ]
  },
  {
   "cell_type": "markdown",
   "id": "7cd6f2a6-ceed-44f4-ab78-36669d6a2252",
   "metadata": {},
   "source": [
    "## Step 6: Train Navie Bayes Model\n"
   ]
  },
  {
   "cell_type": "code",
   "execution_count": 91,
   "id": "aa426388-d9f3-42a3-b89c-3f34841c883c",
   "metadata": {},
   "outputs": [
    {
     "name": "stdout",
     "output_type": "stream",
     "text": [
      "Model trained successfully! 🎉\n"
     ]
    }
   ],
   "source": [
    "# Create and train the classifier\n",
    "model = MultinomialNB()\n",
    "model.fit(X_train, y_train)\n",
    "\n",
    "print(\"Model trained successfully! 🎉\")"
   ]
  },
  {
   "cell_type": "markdown",
   "id": "7e3b4333-34a1-439b-b6a4-57ac84224794",
   "metadata": {},
   "source": [
    "## Step 7: Make Predictions and Evaluate the Model"
   ]
  },
  {
   "cell_type": "code",
   "execution_count": 92,
   "id": "0ef65631-1e4a-4747-b7df-6cc24ba8b823",
   "metadata": {},
   "outputs": [],
   "source": [
    "# Predict on test set\n",
    "y_pred = model.predict(X_test)\n",
    "\n",
    "# Predict probabilities (optional)\n",
    "y_prob = model.predict_proba(X_test)  # [P(ham), P(spam)]"
   ]
  },
  {
   "cell_type": "code",
   "execution_count": 93,
   "id": "a501d558-034f-4327-a628-5b437ca0dba5",
   "metadata": {},
   "outputs": [
    {
     "name": "stdout",
     "output_type": "stream",
     "text": [
      "Accuracy: 0.9785\n",
      "\n",
      "Classification Report:\n",
      "              precision    recall  f1-score   support\n",
      "\n",
      "         ham       0.98      0.99      0.99       966\n",
      "        spam       0.95      0.89      0.92       149\n",
      "\n",
      "    accuracy                           0.98      1115\n",
      "   macro avg       0.97      0.94      0.95      1115\n",
      "weighted avg       0.98      0.98      0.98      1115\n",
      "\n",
      "\n",
      "Confusion Matrix:\n",
      "[[959   7]\n",
      " [ 17 132]]\n"
     ]
    }
   ],
   "source": [
    "# Accuracy\n",
    "acc = accuracy_score(y_test, y_pred)\n",
    "print(f\"Accuracy: {acc:.4f}\")\n",
    "\n",
    "# Precision, Recall, F1-Score\n",
    "print(\"\\nClassification Report:\")\n",
    "print(classification_report(y_test, y_pred))\n",
    "\n",
    "# Confusion Matrix\n",
    "print(\"\\nConfusion Matrix:\")\n",
    "print(confusion_matrix(y_test, y_pred))"
   ]
  },
  {
   "cell_type": "markdown",
   "id": "73cd0430-5ed2-4cc8-810c-39c234c496c5",
   "metadata": {},
   "source": [
    "## Visualize it !"
   ]
  },
  {
   "cell_type": "code",
   "execution_count": 100,
   "id": "d1b79b95-2426-417f-84c4-a85caf394ed4",
   "metadata": {},
   "outputs": [
    {
     "data": {
      "image/png": "[encoded data removed]",
      "text/plain": [
       "<Figure size 800x600 with 2 Axes>"
      ]
     },
     "metadata": {},
     "output_type": "display_data"
    }
   ],
   "source": [
    "import seaborn as sns\n",
    "import matplotlib.pyplot as plt\n",
    "from sklearn.metrics import confusion_matrix\n",
    "\n",
    "# Get predictions\n",
    "y_pred = model.predict(X_test)\n",
    "\n",
    "# Create confusion matrix\n",
    "cm = confusion_matrix(y_test, y_pred, labels=['ham', 'spam'])\n",
    "\n",
    "# Plot heatmap\n",
    "plt.figure(figsize=(8, 6))\n",
    "sns.heatmap(cm, annot=True, fmt='d', cmap='Blues', xticklabels=['ham', 'spam'], yticklabels=['ham', 'spam'])\n",
    "plt.title('Confusion Matrix')\n",
    "plt.xlabel('Predicted')\n",
    "plt.ylabel('Actual')\n",
    "plt.show()"
   ]
  },
  {
   "cell_type": "markdown",
   "id": "a2b24ea6-4a60-47be-92b0-c78553c918c2",
   "metadata": {},
   "source": [
    "## Test on new message"
   ]
  },
  {
   "cell_type": "code",
   "execution_count": 97,
   "id": "05299658-99c7-47e8-9291-d26731baedaf",
   "metadata": {},
   "outputs": [
    {
     "name": "stdout",
     "output_type": "stream",
     "text": [
      "Message: Congratulations! You've won $1000! Click here now!\n",
      "Prediction: spam\n",
      "Spam probability: 99.90%\n"
     ]
    }
   ],
   "source": [
    "new_msg = [\"Congratulations! You've won $1000! Click here now!\"]\n",
    "\n",
    "# Must clean and vectorize the same way!\n",
    "clean_new = preprocess_text(new_msg[0])\n",
    "vec_new = vectorizer.transform([clean_new])\n",
    "\n",
    "pred = model.predict(vec_new)\n",
    "prob = model.predict_proba(vec_new)\n",
    "\n",
    "print(\"Message:\", new_msg[0])\n",
    "print(\"Prediction:\", pred[0])\n",
    "print(\"Spam probability: {:.2f}%\".format(prob[0][1] * 100))"
   ]
  }
 ],
 "metadata": {
  "kernelspec": {
   "display_name": "Python (hands-on)",
   "language": "python",
   "name": "hands-on-kernel"
  },
  "language_info": {
   "codemirror_mode": {
    "name": "ipython",
    "version": 3
   },
   "file_extension": ".py",
   "mimetype": "text/x-python",
   "name": "python",
   "nbconvert_exporter": "python",
   "pygments_lexer": "ipython3",
   "version": "3.13.5"
  }
 },
 "nbformat": 4,
 "nbformat_minor": 5
}
