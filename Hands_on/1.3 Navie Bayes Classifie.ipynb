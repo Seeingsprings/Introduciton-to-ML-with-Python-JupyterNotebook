{
 "cells": [
  {
   "cell_type": "markdown",
   "id": "5570c299-761b-40cb-ba55-59f2fa02b122",
   "metadata": {},
   "source": [
    "# Naive Bayes Classifie\n",
    "朴素贝叶斯分类器是与上一节介绍的线性模型非常相似的一种分类器，但它的训练速度往\n",
    "往更快。这种高效率所付出的代价是，朴素贝叶斯模型的泛化能力要比线性分类器（如\n",
    "LogisticRegression和LinearSVC）稍差。\n",
    "\n",
    "**朴素贝叶斯 = 用概率做分类 + 忽略特征之间的关系 + 极其高效**  \n",
    "它不是最准的，但往往是最快、最简单的选择！\n",
    "\n",
    "它基于**贝叶斯定理**，并做了“**朴素假设**”：  \n",
    "👉 所有特征之间**相互独立**（虽然现实中不成立，但效果依然很好！）\n",
    "\n",
    "朴素贝叶斯模型如此高效的原因在于，它通过单独查看每个特征来学习参数，并从每\n",
    "个特征中收集简单的类别统计数据。\n"
   ]
  },
  {
   "cell_type": "markdown",
   "id": "629328dd-3bbd-41d5-957d-5ce302ad1a54",
   "metadata": {},
   "source": [
    "## 为什么叫“朴素”？\n",
    "\n",
    "因为它的核心假设是：\n",
    "\n",
    "> **所有特征彼此独立**，即某个特征出现与否不影响其他特征。\n",
    "\n",
    "比如判断一封邮件是不是垃圾邮件：\n",
    "\n",
    "- 它认为：“出现‘免费’和‘中奖’这两个词是独立事件”\n",
    "- 实际上它们可能相关，但模型忽略这一点 → 这就是“朴素”\n",
    "\n",
    "尽管如此，这个假设让计算变得**极其简单快速**，所以它在很多场景下表现非常好！\n",
    "\n"
   ]
  },
  {
   "cell_type": "markdown",
   "id": "d202f0b2-bb45-48e5-a210-0a9906d2912b",
   "metadata": {},
   "source": [
    "## 分类\n",
    "\n",
    "\n",
    "| 模型 | 学习什么？ | 举个例子 |\n",
    "|------|------------|----------|\n",
    "| `BernoulliNB` | 每个类别的每个特征中，**1 的个数** | 文本中某个词是否出现 |\n",
    "| `MultinomialNB` | 每个类别的每个特征的**平均值** | 文本中某个词出现的**次数** |\n",
    "| `GaussianNB` | 每个类别的每个特征的**均值和标准差** | 身高、体重等连续变量 |\n",
    "\n",
    "> 💡 文中提到的 `BernoulliNB` 和 `MultinomialNB` 主要用于**文本分类**，比如垃圾邮件识别、情感分析等。\n",
    "\n",
    "\n",
    "## BernoulliNB分类器"
   ]
  },
  {
   "cell_type": "code",
   "execution_count": 1,
   "id": "580df66f-ce42-4c94-9d49-87a006e2f82a",
   "metadata": {},
   "outputs": [],
   "source": [
    "import numpy as np\n",
    "import pandas as pd\n",
    "import matplotlib.pyplot as plt\n",
    "import seaborn as sns\n",
    "from sklearn.datasets import load_breast_cancer\n",
    "from sklearn.model_selection import train_test_split\n",
    "from sklearn.linear_model import LogisticRegression\n",
    "from sklearn.metrics import accuracy_score, classification_report, confusion_matrix"
   ]
  },
  {
   "cell_type": "code",
   "execution_count": 2,
   "id": "88f330c4-5bc7-4195-9fa6-7018e1f66171",
   "metadata": {},
   "outputs": [],
   "source": [
    "X = np.array([[0, 1, 0, 1], \n",
    "              [1, 0, 1, 1], \n",
    "              [0, 0, 0, 1], \n",
    "              [1, 0, 1, 0]]) \n",
    "y = np.array([0, 1, 0, 1])\n"
   ]
  },
  {
   "cell_type": "markdown",
   "id": "844a2a2c-262b-448d-a4da-6e42770e6609",
   "metadata": {},
   "source": [
    "这里我们有4个数据点，每个点有4个二分类特征。一共有两个类别：0和1。对于类别0\n",
    "（第1、3个数据点），第一个特征有2个为零、0个不为零，第二个特征有1个为零、1个\n",
    "不为零，以此类推。然后对类别1中的数据点计算相同的计数。计算每个类别中的非零元\n",
    "素个数，大体上看起来像这样"
   ]
  },
  {
   "cell_type": "code",
   "execution_count": 3,
   "id": "cb924200-fdcf-4186-a9fd-bdd2d5392117",
   "metadata": {},
   "outputs": [
    {
     "name": "stdout",
     "output_type": "stream",
     "text": [
      "Feature counts:\n",
      "{np.int64(0): array([0, 1, 0, 2]), np.int64(1): array([2, 0, 2, 1])}\n"
     ]
    }
   ],
   "source": [
    "counts = {} \n",
    "for label in np.unique(y): \n",
    "    # 对每个类别进行遍历 \n",
    "    # 计算（求和）每个特征中1的个数 \n",
    "    counts[label] = X[y == label].sum(axis=0) \n",
    "print(\"Feature counts:\\n{}\".format(counts))"
   ]
  },
  {
   "cell_type": "markdown",
   "id": "56477015-9896-40ed-9e86-593c3ccc6db8",
   "metadata": {},
   "source": [
    "解释一下：\n",
    "\n",
    "类别1（也就是第一行和第三行），是特征0\n",
    "\n",
    "返回的[0,1,0,2] 就是两行相加的结果，同时也是“类别0中每个特征的1的个数”\n",
    "\n",
    "所以特征0中有 0 个1，特征1中有 1 个1，特征2中有 0 个1，特征3中有 2 个1\n",
    "\n",
    "就是这个意思，很聪明吧\n"
   ]
  },
  {
   "cell_type": "code",
   "execution_count": null,
   "id": "0947adb7-ab0a-4edd-b3e6-f99e749a06f0",
   "metadata": {},
   "outputs": [],
   "source": []
  }
 ],
 "metadata": {
  "kernelspec": {
   "display_name": "Python (hands-on)",
   "language": "python",
   "name": "hands-on-kernel"
  },
  "language_info": {
   "codemirror_mode": {
    "name": "ipython",
    "version": 3
   },
   "file_extension": ".py",
   "mimetype": "text/x-python",
   "name": "python",
   "nbconvert_exporter": "python",
   "pygments_lexer": "ipython3",
   "version": "3.13.5"
  }
 },
 "nbformat": 4,
 "nbformat_minor": 5
}
