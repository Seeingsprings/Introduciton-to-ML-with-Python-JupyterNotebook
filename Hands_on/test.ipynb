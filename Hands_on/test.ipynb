{
 "cells": [
  {
   "cell_type": "code",
   "execution_count": 1,
   "id": "a52fc2a7-5d5e-4ec0-841a-5311e7ea7b6b",
   "metadata": {},
   "outputs": [
    {
     "name": "stdout",
     "output_type": "stream",
     "text": [
      "aaHello, this is a test\n"
     ]
    }
   ],
   "source": [
    "print(\"aaHello, this is a test\")"
   ]
  }
 ],
 "metadata": {
  "kernelspec": {
   "display_name": "Python (hands-on)",
   "language": "python",
   "name": "hands-on-kernel"
  },
  "language_info": {
   "codemirror_mode": {
    "name": "ipython",
    "version": 3
   },
   "file_extension": ".py",
   "mimetype": "text/x-python",
   "name": "python",
   "nbconvert_exporter": "python",
   "pygments_lexer": "ipython3",
   "version": "3.13.5"
  }
 },
 "nbformat": 4,
 "nbformat_minor": 5
}
